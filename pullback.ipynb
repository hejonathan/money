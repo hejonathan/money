{
 "cells": [
  {
   "cell_type": "code",
   "execution_count": 10,
   "metadata": {
    "ExecuteTime": {
     "start_time": "2023-05-22T22:58:36.406993Z",
     "end_time": "2023-05-22T22:58:36.445887Z"
    }
   },
   "outputs": [],
   "source": [
    "import vectorbt as vbt\n",
    "import numpy as np\n",
    "import numpy.ma as ma\n",
    "import pandas as pd\n",
    "import inspect\n",
    "import datetime\n",
    "import talib\n",
    "from IPython.display import display, HTML\n",
    "\n",
    "\n",
    "vbt.settings.data['alpaca']['key_id'] = 'PK2XNKDSJH4PVPCYDK8E'\n",
    "vbt.settings.data['alpaca']['secret_key'] = 'f5cD1kbR3p5RRfgvNgDiQ09qRpi4LCYmPZprl3KM'"
   ]
  },
  {
   "cell_type": "code",
   "execution_count": 11,
   "metadata": {
    "ExecuteTime": {
     "start_time": "2023-05-22T22:58:36.426938Z",
     "end_time": "2023-05-22T22:58:37.136225Z"
    }
   },
   "outputs": [
    {
     "data": {
      "application/vnd.jupyter.widget-view+json": {
       "version_major": 2,
       "version_minor": 0,
       "model_id": "21f7cc50311f45a3982098d4e07f6b08"
      },
      "text/plain": "FigureWidget({\n    'data': [{'close': array([185.59, 183.69, 181.12, ..., 390.22, 387.78, 394.59]),\n              'decreasing': {'line': {'color': '#d95f02'}},\n              'high': array([185.71, 185.87, 184.24, ..., 391.94, 387.99, 394.94]),\n              'increasing': {'line': {'color': '#1b9e76'}},\n              'low': array([184.21, 183.43, 180.37, ..., 385.56, 382.23, 384.8 ]),\n              'name': 'Candlestick',\n              'open': array([184.5 , 185.53, 183.96, ..., 389.  , 384.41, 385.33]),\n              'type': 'candlestick',\n              'uid': '0bd7a1b7-3502-4080-ae59-78ccbd965b14',\n              'x': array([datetime.datetime(2015, 12, 1, 5, 0, tzinfo=datetime.timezone.utc),\n                          datetime.datetime(2015, 12, 2, 5, 0, tzinfo=datetime.timezone.utc),\n                          datetime.datetime(2015, 12, 3, 5, 0, tzinfo=datetime.timezone.utc), ...,\n                          datetime.datetime(2023, 3, 14, 4, 0, tzinfo=datetime.timezone.utc),\n                          datetime.datetime(2023, 3, 15, 4, 0, tzinfo=datetime.timezone.utc),\n                          datetime.datetime(2023, 3, 16, 4, 0, tzinfo=datetime.timezone.utc)],\n                         dtype=object),\n              'xaxis': 'x',\n              'yaxis': 'y'},\n             {'marker': {'color': array(['#1b9e76', '#d95f02', '#d95f02', ..., '#1b9e76', '#1b9e76', '#1b9e76'],\n                                        dtype=object),\n                         'line': {'width': 0}},\n              'name': 'Volume',\n              'opacity': 0.5,\n              'type': 'bar',\n              'uid': '484393fb-6c45-4897-9e77-d4b3e28aa04a',\n              'x': array([datetime.datetime(2015, 12, 1, 5, 0, tzinfo=datetime.timezone.utc),\n                          datetime.datetime(2015, 12, 2, 5, 0, tzinfo=datetime.timezone.utc),\n                          datetime.datetime(2015, 12, 3, 5, 0, tzinfo=datetime.timezone.utc), ...,\n                          datetime.datetime(2023, 3, 14, 4, 0, tzinfo=datetime.timezone.utc),\n                          datetime.datetime(2023, 3, 15, 4, 0, tzinfo=datetime.timezone.utc),\n                          datetime.datetime(2023, 3, 16, 4, 0, tzinfo=datetime.timezone.utc)],\n                         dtype=object),\n              'xaxis': 'x2',\n              'y': array([9.78584180e+07, 1.08069059e+08, 1.66224154e+08, ..., 1.49772836e+08,\n                          1.73294525e+08, 1.43753940e+08]),\n              'yaxis': 'y2'}],\n    'layout': {'bargap': 0,\n               'height': 350,\n               'legend': {'orientation': 'h',\n                          'traceorder': 'normal',\n                          'x': 1,\n                          'xanchor': 'right',\n                          'y': 1.02,\n                          'yanchor': 'bottom'},\n               'margin': {'b': 30, 'l': 30, 'r': 30, 't': 30},\n               'showlegend': True,\n               'template': '...',\n               'width': 700,\n               'xaxis': {'anchor': 'y',\n                         'domain': [0.0, 1.0],\n                         'matches': 'x2',\n                         'rangeslider': {'visible': False},\n                         'showgrid': True,\n                         'showticklabels': False},\n               'xaxis2': {'anchor': 'y2', 'domain': [0.0, 1.0], 'showgrid': True},\n               'yaxis': {'anchor': 'x', 'domain': [0.3, 1.0], 'showgrid': True},\n               'yaxis2': {'anchor': 'x2', 'domain': [0.0, 0.3], 'showgrid': True}}\n})"
     },
     "execution_count": 11,
     "metadata": {},
     "output_type": "execute_result"
    }
   ],
   "source": [
    "symbol = 'spy'\n",
    "data = vbt.AlpacaData.download(symbol,\n",
    "                               start='1990-3-05',\n",
    "                               end='2023-3-16',\n",
    "                               limit=2000000,\n",
    "                               timeframe='1d').get()\n",
    "\n",
    "inspect.signature(data.vbt.ohlcv.plot)\n",
    "data.vbt.ohlcv.plot(plot_type='candlestick')\n"
   ]
  },
  {
   "cell_type": "code",
   "execution_count": 11,
   "outputs": [],
   "source": [],
   "metadata": {
    "collapsed": false,
    "ExecuteTime": {
     "start_time": "2023-05-22T22:58:37.136225Z",
     "end_time": "2023-05-22T22:58:37.161159Z"
    }
   }
  },
  {
   "cell_type": "code",
   "execution_count": 12,
   "metadata": {
    "ExecuteTime": {
     "start_time": "2023-05-22T22:58:37.161159Z",
     "end_time": "2023-05-22T22:58:39.713297Z"
    }
   },
   "outputs": [
    {
     "name": "stdout",
     "output_type": "stream",
     "text": [
      "pullback_place_order_entry  pullback_place_order_out\n",
      "10                          10                          0.000000\n",
      "                            12                          0.000000\n",
      "                            14                          0.000000\n",
      "                            16                          0.000000\n",
      "                            18                          0.000000\n",
      "                                                          ...   \n",
      "48                          60                         -0.041307\n",
      "                            62                         -0.030174\n",
      "                            64                          0.010461\n",
      "                            66                          0.025570\n",
      "                            68                          0.098054\n",
      "Name: total_return, Length: 600, dtype: float64\n",
      "0.2619003054362507\n"
     ]
    },
    {
     "data": {
      "text/plain": "'\\nfig = returns.vbt.volume(\\n        x_level = \"pullback_place_order_rsi_window\",\\n        y_level = \"pullback_place_order_sma_window\",\\n        z_level = \"pullback_place_order_out\",\\n        trace_kwargs=dict(colorbar=dict(title=\\'Total return\\', tickformat=\\'%\\'))\\n)\\nfig.show()'"
     },
     "execution_count": 12,
     "metadata": {},
     "output_type": "execute_result"
    }
   ],
   "source": [
    "RSI = vbt.IndicatorFactory.from_talib('RSI')\n",
    "SMA = vbt.IndicatorFactory.from_talib('SMA')\n",
    "\n",
    "\n",
    "def pullback_place_entry(start, close, rsi_window, sma_window , entry , out , leave):\n",
    "    rsi = RSI.run(close, rsi_window).real.to_numpy()\n",
    "    sma = SMA.run(close, sma_window).real.to_numpy()\n",
    "\n",
    "    entry = np.where((rsi < entry) & (sma < start), 1, 0)\n",
    "\n",
    "    entry = np.roll(entry, 2)\n",
    "\n",
    "    leave_array = np.roll(entry.astype(float), leave)\n",
    "    leave_array[:leave] = np.inf\n",
    "\n",
    "\n",
    "    sell = np.where((leave_array == 1) | (rsi>out) , -1, 0)\n",
    "    sell = np.roll(sell, 2)\n",
    "\n",
    "    exits = sell == -1\n",
    "    entry = entry == 1\n",
    "\n",
    "    return entry, exits\n",
    "\n",
    "PULLBACK_PLACE_ENTRY = vbt.IndicatorFactory(\n",
    "    class_name = \"pullback_place_order\",\n",
    "    short_name = \"pullback_place_order\",\n",
    "    input_names = ['start', 'close'],\n",
    "    output_names = ['entry', 'exits'],\n",
    "    param_names=['rsi_window', 'sma_window', 'entry', 'out', 'leave']\n",
    ").from_apply_func(pullback_place_entry, rsi_window = 10, sma_window = 200, entry = 30, out = 40, leave=10)\n",
    "\n",
    "order = PULLBACK_PLACE_ENTRY.run(\n",
    "    data['Open'],\n",
    "    data['Close'],\n",
    "    #rsi_window = np.arange(10,30,step=1,dtype=int),\n",
    "    #ma_window = np.arange(50,300,step=5,dtype=int),\n",
    "    entry = np.arange(10,50,step=2,dtype=int),\n",
    "    out= np.arange(10,70,step=2,dtype=int),\n",
    "    #leave=np.arange(5,15,step=1,dtype=int),\n",
    "    param_product = True,\n",
    "    to_2d = False\n",
    ")\n",
    "\n",
    "\n",
    "\n",
    "\n",
    "pf = vbt.Portfolio.from_signals(data['Open'], order.entry, order.exits, init_cash=10000, freq='1d')\n",
    "\n",
    "#orders = pf.orders\n",
    "\n",
    "returns = pf.total_return()\n",
    "print(returns)\n",
    "print(returns.max())\n",
    "'''\n",
    "fig = returns.vbt.volume(\n",
    "        x_level = \"pullback_place_order_rsi_window\",\n",
    "        y_level = \"pullback_place_order_sma_window\",\n",
    "        z_level = \"pullback_place_order_out\",\n",
    "        trace_kwargs=dict(colorbar=dict(title='Total return', tickformat='%'))\n",
    ")\n",
    "fig.show()'''"
   ]
  },
  {
   "cell_type": "code",
   "execution_count": 12,
   "metadata": {
    "ExecuteTime": {
     "start_time": "2023-05-22T22:58:39.715294Z",
     "end_time": "2023-05-22T22:58:39.758687Z"
    }
   },
   "outputs": [],
   "source": [
    "\n",
    "\n"
   ]
  },
  {
   "cell_type": "code",
   "execution_count": 12,
   "outputs": [],
   "source": [],
   "metadata": {
    "collapsed": false,
    "ExecuteTime": {
     "start_time": "2023-05-22T22:58:39.731760Z",
     "end_time": "2023-05-22T22:58:39.770656Z"
    }
   }
  }
 ],
 "metadata": {
  "kernelspec": {
   "display_name": "Python 3 (ipykernel)",
   "language": "python",
   "name": "python3"
  },
  "language_info": {
   "codemirror_mode": {
    "name": "ipython",
    "version": 3
   },
   "file_extension": ".py",
   "mimetype": "text/x-python",
   "name": "python",
   "nbconvert_exporter": "python",
   "pygments_lexer": "ipython3",
   "version": "3.9.13"
  }
 },
 "nbformat": 4,
 "nbformat_minor": 1
}
