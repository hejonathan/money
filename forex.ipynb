{
 "cells": [
  {
   "cell_type": "code",
   "execution_count": 9,
   "metadata": {
    "ExecuteTime": {
     "start_time": "2023-05-22T23:14:44.749655Z",
     "end_time": "2023-05-22T23:14:44.761622Z"
    }
   },
   "outputs": [],
   "source": [
    "import vectorbt as vbt\n",
    "import numpy as np\n",
    "import numpy.ma as ma\n",
    "import pandas as pd\n",
    "import inspect\n",
    "import datetime\n",
    "import talib\n",
    "from numba import njit\n",
    "from IPython.display import display, HTML\n",
    "\n",
    "\n",
    "vbt.settings.data['alpaca']['key_id'] = 'PK2XNKDSJH4PVPCYDK8E'\n",
    "vbt.settings.data['alpaca']['secret_key'] = 'f5cD1kbR3p5RRfgvNgDiQ09qRpi4LCYmPZprl3KM'"
   ]
  },
  {
   "cell_type": "code",
   "execution_count": 10,
   "metadata": {
    "ExecuteTime": {
     "start_time": "2023-05-22T23:14:44.759628Z",
     "end_time": "2023-05-22T23:15:21.954709Z"
    }
   },
   "outputs": [
    {
     "data": {
      "application/vnd.jupyter.widget-view+json": {
       "version_major": 2,
       "version_minor": 0,
       "model_id": "bc3a871a94f241d2ae86316f45d667a1"
      },
      "text/plain": "FigureWidget({\n    'data': [{'close': array([184.49, 184.48, 184.49, ..., 387.43, 387.1 , 387.28]),\n              'decreasing': {'line': {'color': '#d95f02'}},\n              'high': array([184.49, 184.48, 184.5 , ..., 387.76, 387.42, 387.32]),\n              'increasing': {'line': {'color': '#1b9e76'}},\n              'low': array([184.49, 184.39, 184.48, ..., 387.21, 387.09, 387.13]),\n              'name': 'Candlestick',\n              'open': array([184.49, 184.42, 184.5 , ..., 387.76, 387.42, 387.13]),\n              'type': 'candlestick',\n              'uid': '186a44b8-f26b-4e7a-87e8-5de82b527ae0',\n              'x': array([datetime.datetime(2015, 12, 1, 9, 0, tzinfo=datetime.timezone.utc),\n                          datetime.datetime(2015, 12, 1, 9, 5, tzinfo=datetime.timezone.utc),\n                          datetime.datetime(2015, 12, 1, 9, 15, tzinfo=datetime.timezone.utc),\n                          ...,\n                          datetime.datetime(2023, 3, 15, 23, 45, tzinfo=datetime.timezone.utc),\n                          datetime.datetime(2023, 3, 15, 23, 50, tzinfo=datetime.timezone.utc),\n                          datetime.datetime(2023, 3, 15, 23, 55, tzinfo=datetime.timezone.utc)],\n                         dtype=object),\n              'xaxis': 'x',\n              'yaxis': 'y'},\n             {'marker': {'color': array(['#7f7f7f', '#1b9e76', '#d95f02', ..., '#d95f02', '#d95f02', '#1b9e76'],\n                                        dtype=object),\n                         'line': {'width': 0}},\n              'name': 'Volume',\n              'opacity': 0.5,\n              'type': 'bar',\n              'uid': 'b02866bb-1081-4fd9-af47-453ef93bb59c',\n              'x': array([datetime.datetime(2015, 12, 1, 9, 0, tzinfo=datetime.timezone.utc),\n                          datetime.datetime(2015, 12, 1, 9, 5, tzinfo=datetime.timezone.utc),\n                          datetime.datetime(2015, 12, 1, 9, 15, tzinfo=datetime.timezone.utc),\n                          ...,\n                          datetime.datetime(2023, 3, 15, 23, 45, tzinfo=datetime.timezone.utc),\n                          datetime.datetime(2023, 3, 15, 23, 50, tzinfo=datetime.timezone.utc),\n                          datetime.datetime(2023, 3, 15, 23, 55, tzinfo=datetime.timezone.utc)],\n                         dtype=object),\n              'xaxis': 'x2',\n              'y': array([  470.,  1260.,  1800., ..., 38379., 25477., 23838.]),\n              'yaxis': 'y2'}],\n    'layout': {'bargap': 0,\n               'height': 350,\n               'legend': {'orientation': 'h',\n                          'traceorder': 'normal',\n                          'x': 1,\n                          'xanchor': 'right',\n                          'y': 1.02,\n                          'yanchor': 'bottom'},\n               'margin': {'b': 30, 'l': 30, 'r': 30, 't': 30},\n               'showlegend': True,\n               'template': '...',\n               'width': 700,\n               'xaxis': {'anchor': 'y',\n                         'domain': [0.0, 1.0],\n                         'matches': 'x2',\n                         'rangeslider': {'visible': False},\n                         'showgrid': True,\n                         'showticklabels': False},\n               'xaxis2': {'anchor': 'y2', 'domain': [0.0, 1.0], 'showgrid': True},\n               'yaxis': {'anchor': 'x', 'domain': [0.3, 1.0], 'showgrid': True},\n               'yaxis2': {'anchor': 'x2', 'domain': [0.0, 0.3], 'showgrid': True}}\n})"
     },
     "execution_count": 10,
     "metadata": {},
     "output_type": "execute_result"
    }
   ],
   "source": [
    "symbol = 'spy'\n",
    "data = vbt.AlpacaData.download(symbol,\n",
    "                               start='2010-1-01',\n",
    "                               end='2023-3-16',\n",
    "                               limit=2000000,\n",
    "                               timeframe='5m').get()\n",
    "\n",
    "inspect.signature(data.vbt.ohlcv.plot)\n",
    "data.vbt.ohlcv.plot(plot_type='candlestick')\n"
   ]
  },
  {
   "cell_type": "code",
   "execution_count": 10,
   "outputs": [],
   "source": [],
   "metadata": {
    "collapsed": false,
    "ExecuteTime": {
     "start_time": "2023-05-22T23:15:21.955675Z",
     "end_time": "2023-05-22T23:15:21.970633Z"
    }
   }
  },
  {
   "cell_type": "code",
   "execution_count": 11,
   "metadata": {
    "ExecuteTime": {
     "start_time": "2023-05-22T22:53:36.017206Z",
     "end_time": "2023-05-22T22:53:52.130372Z"
    }
   },
   "outputs": [
    {
     "name": "stderr",
     "output_type": "stream",
     "text": [
      "C:\\Users\\chote\\AppData\\Local\\Temp\\ipykernel_25016\\594875462.py:67: UserWarning:\n",
      "\n",
      "Metric 'max_gross_exposure' raised an exception\n",
      "\n"
     ]
    },
    {
     "ename": "MemoryError",
     "evalue": "Allocation failed (probably too large).",
     "output_type": "error",
     "traceback": [
      "\u001B[1;31m---------------------------------------------------------------------------\u001B[0m",
      "\u001B[1;31mMemoryError\u001B[0m                               Traceback (most recent call last)",
      "Cell \u001B[1;32mIn[11], line 67\u001B[0m\n\u001B[0;32m     63\u001B[0m pf \u001B[38;5;241m=\u001B[39m vbt\u001B[38;5;241m.\u001B[39mPortfolio\u001B[38;5;241m.\u001B[39mfrom_signals(data[\u001B[38;5;124m'\u001B[39m\u001B[38;5;124mClose\u001B[39m\u001B[38;5;124m'\u001B[39m], order\u001B[38;5;241m.\u001B[39mbuy, sl_stop \u001B[38;5;241m=\u001B[39m order\u001B[38;5;241m.\u001B[39mstop_loss, tp_stop \u001B[38;5;241m=\u001B[39m order\u001B[38;5;241m.\u001B[39mprofit, init_cash\u001B[38;5;241m=\u001B[39m\u001B[38;5;241m10000\u001B[39m, freq\u001B[38;5;241m=\u001B[39m\u001B[38;5;124m'\u001B[39m\u001B[38;5;124m5m\u001B[39m\u001B[38;5;124m'\u001B[39m)\n\u001B[0;32m     64\u001B[0m  \u001B[38;5;66;03m#   master_returns.append(pf.total_return())\u001B[39;00m\n\u001B[0;32m     65\u001B[0m \n\u001B[0;32m     66\u001B[0m \u001B[38;5;66;03m#print(master_returns)\u001B[39;00m\n\u001B[1;32m---> 67\u001B[0m \u001B[43mpf\u001B[49m\u001B[38;5;241;43m.\u001B[39;49m\u001B[43mstats\u001B[49m\u001B[43m(\u001B[49m\u001B[43m)\u001B[49m\n\u001B[0;32m     68\u001B[0m \u001B[38;5;66;03m#orders = pf.orders\u001B[39;00m\n\u001B[0;32m     69\u001B[0m \u001B[38;5;66;03m#returns = pf.total_return()\u001B[39;00m\n\u001B[0;32m     70\u001B[0m \u001B[38;5;66;03m#print(returns)\u001B[39;00m\n\u001B[0;32m     71\u001B[0m \u001B[38;5;66;03m#print(returns.max())\u001B[39;00m\n",
      "File \u001B[1;32m~\\anaconda3\\envs\\tradingbot\\lib\\site-packages\\vectorbt\\generic\\stats_builder.py:585\u001B[0m, in \u001B[0;36mStatsBuilderMixin.stats\u001B[1;34m(self, metrics, tags, column, group_by, agg_func, silence_warnings, template_mapping, settings, filters, metric_settings)\u001B[0m\n\u001B[0;32m    583\u001B[0m     \u001B[38;5;28;01mexcept\u001B[39;00m \u001B[38;5;167;01mException\u001B[39;00m \u001B[38;5;28;01mas\u001B[39;00m e:\n\u001B[0;32m    584\u001B[0m         warnings\u001B[38;5;241m.\u001B[39mwarn(\u001B[38;5;124mf\u001B[39m\u001B[38;5;124m\"\u001B[39m\u001B[38;5;124mMetric \u001B[39m\u001B[38;5;124m'\u001B[39m\u001B[38;5;132;01m{\u001B[39;00mmetric_name\u001B[38;5;132;01m}\u001B[39;00m\u001B[38;5;124m'\u001B[39m\u001B[38;5;124m raised an exception\u001B[39m\u001B[38;5;124m\"\u001B[39m, stacklevel\u001B[38;5;241m=\u001B[39m\u001B[38;5;241m2\u001B[39m)\n\u001B[1;32m--> 585\u001B[0m         \u001B[38;5;28;01mraise\u001B[39;00m e\n\u001B[0;32m    587\u001B[0m \u001B[38;5;66;03m# Return the stats\u001B[39;00m\n\u001B[0;32m    588\u001B[0m \u001B[38;5;28;01mif\u001B[39;00m reself\u001B[38;5;241m.\u001B[39mwrapper\u001B[38;5;241m.\u001B[39mget_ndim(group_by\u001B[38;5;241m=\u001B[39mgroup_by) \u001B[38;5;241m==\u001B[39m \u001B[38;5;241m1\u001B[39m:\n",
      "File \u001B[1;32m~\\anaconda3\\envs\\tradingbot\\lib\\site-packages\\vectorbt\\generic\\stats_builder.py:488\u001B[0m, in \u001B[0;36mStatsBuilderMixin.stats\u001B[1;34m(self, metrics, tags, column, group_by, agg_func, silence_warnings, template_mapping, settings, filters, metric_settings)\u001B[0m\n\u001B[0;32m    485\u001B[0m         \u001B[38;5;28;01mreturn\u001B[39;00m out(\u001B[38;5;241m*\u001B[39margs, \u001B[38;5;241m*\u001B[39m\u001B[38;5;241m*\u001B[39mkwargs)\n\u001B[0;32m    486\u001B[0m     \u001B[38;5;28;01mreturn\u001B[39;00m out\n\u001B[1;32m--> 488\u001B[0m calc_func \u001B[38;5;241m=\u001B[39m \u001B[43mcustom_reself\u001B[49m\u001B[38;5;241;43m.\u001B[39;49m\u001B[43mdeep_getattr\u001B[49m\u001B[43m(\u001B[49m\n\u001B[0;32m    489\u001B[0m \u001B[43m    \u001B[49m\u001B[43mcalc_func\u001B[49m\u001B[43m,\u001B[49m\n\u001B[0;32m    490\u001B[0m \u001B[43m    \u001B[49m\u001B[43mgetattr_func\u001B[49m\u001B[38;5;241;43m=\u001B[39;49m\u001B[43m_getattr_func\u001B[49m\u001B[43m,\u001B[49m\n\u001B[0;32m    491\u001B[0m \u001B[43m    \u001B[49m\u001B[43mcall_last_attr\u001B[49m\u001B[38;5;241;43m=\u001B[39;49m\u001B[38;5;28;43;01mFalse\u001B[39;49;00m\n\u001B[0;32m    492\u001B[0m \u001B[43m\u001B[49m\u001B[43m)\u001B[49m\n\u001B[0;32m    494\u001B[0m \u001B[38;5;28;01mif\u001B[39;00m \u001B[38;5;124m'\u001B[39m\u001B[38;5;124mgroup_by\u001B[39m\u001B[38;5;124m'\u001B[39m \u001B[38;5;129;01min\u001B[39;00m passed_kwargs_out:\n\u001B[0;32m    495\u001B[0m     \u001B[38;5;28;01mif\u001B[39;00m \u001B[38;5;124m'\u001B[39m\u001B[38;5;124mpass_group_by\u001B[39m\u001B[38;5;124m'\u001B[39m \u001B[38;5;129;01mnot\u001B[39;00m \u001B[38;5;129;01min\u001B[39;00m final_kwargs:\n",
      "File \u001B[1;32m~\\anaconda3\\envs\\tradingbot\\lib\\site-packages\\vectorbt\\utils\\attr_.py:206\u001B[0m, in \u001B[0;36mAttrResolver.deep_getattr\u001B[1;34m(self, *args, **kwargs)\u001B[0m\n\u001B[0;32m    204\u001B[0m \u001B[38;5;28;01mdef\u001B[39;00m \u001B[38;5;21mdeep_getattr\u001B[39m(\u001B[38;5;28mself\u001B[39m, \u001B[38;5;241m*\u001B[39margs, \u001B[38;5;241m*\u001B[39m\u001B[38;5;241m*\u001B[39mkwargs) \u001B[38;5;241m-\u001B[39m\u001B[38;5;241m>\u001B[39m tp\u001B[38;5;241m.\u001B[39mAny:\n\u001B[0;32m    205\u001B[0m \u001B[38;5;250m    \u001B[39m\u001B[38;5;124;03m\"\"\"See `vectorbt.utils.attr_.deep_getattr`.\"\"\"\u001B[39;00m\n\u001B[1;32m--> 206\u001B[0m     \u001B[38;5;28;01mreturn\u001B[39;00m deep_getattr(\u001B[38;5;28mself\u001B[39m, \u001B[38;5;241m*\u001B[39margs, \u001B[38;5;241m*\u001B[39m\u001B[38;5;241m*\u001B[39mkwargs)\n",
      "File \u001B[1;32m~\\anaconda3\\envs\\tradingbot\\lib\\site-packages\\vectorbt\\utils\\attr_.py:66\u001B[0m, in \u001B[0;36mdeep_getattr\u001B[1;34m(obj, attr_chain, getattr_func, call_last_attr)\u001B[0m\n\u001B[0;32m     64\u001B[0m \u001B[38;5;28;01mif\u001B[39;00m \u001B[38;5;28misinstance\u001B[39m(attr_chain, \u001B[38;5;28mstr\u001B[39m):\n\u001B[0;32m     65\u001B[0m     \u001B[38;5;28;01mif\u001B[39;00m \u001B[38;5;124m'\u001B[39m\u001B[38;5;124m.\u001B[39m\u001B[38;5;124m'\u001B[39m \u001B[38;5;129;01min\u001B[39;00m attr_chain:\n\u001B[1;32m---> 66\u001B[0m         \u001B[38;5;28;01mreturn\u001B[39;00m \u001B[43mdeep_getattr\u001B[49m\u001B[43m(\u001B[49m\n\u001B[0;32m     67\u001B[0m \u001B[43m            \u001B[49m\u001B[43mobj\u001B[49m\u001B[43m,\u001B[49m\n\u001B[0;32m     68\u001B[0m \u001B[43m            \u001B[49m\u001B[43mattr_chain\u001B[49m\u001B[38;5;241;43m.\u001B[39;49m\u001B[43msplit\u001B[49m\u001B[43m(\u001B[49m\u001B[38;5;124;43m'\u001B[39;49m\u001B[38;5;124;43m.\u001B[39;49m\u001B[38;5;124;43m'\u001B[39;49m\u001B[43m)\u001B[49m\u001B[43m,\u001B[49m\n\u001B[0;32m     69\u001B[0m \u001B[43m            \u001B[49m\u001B[43mgetattr_func\u001B[49m\u001B[38;5;241;43m=\u001B[39;49m\u001B[43mgetattr_func\u001B[49m\u001B[43m,\u001B[49m\n\u001B[0;32m     70\u001B[0m \u001B[43m            \u001B[49m\u001B[43mcall_last_attr\u001B[49m\u001B[38;5;241;43m=\u001B[39;49m\u001B[43mcall_last_attr\u001B[49m\n\u001B[0;32m     71\u001B[0m \u001B[43m        \u001B[49m\u001B[43m)\u001B[49m\n\u001B[0;32m     72\u001B[0m     \u001B[38;5;28;01mreturn\u001B[39;00m getattr_func(obj, attr_chain, call_attr\u001B[38;5;241m=\u001B[39mcall_last_attr)\n\u001B[0;32m     73\u001B[0m \u001B[38;5;28;01mif\u001B[39;00m \u001B[38;5;28misinstance\u001B[39m(attr_chain, \u001B[38;5;28mtuple\u001B[39m):\n",
      "File \u001B[1;32m~\\anaconda3\\envs\\tradingbot\\lib\\site-packages\\vectorbt\\utils\\attr_.py:89\u001B[0m, in \u001B[0;36mdeep_getattr\u001B[1;34m(obj, attr_chain, getattr_func, call_last_attr)\u001B[0m\n\u001B[0;32m     87\u001B[0m \u001B[38;5;28;01mfor\u001B[39;00m i, attr \u001B[38;5;129;01min\u001B[39;00m \u001B[38;5;28menumerate\u001B[39m(attr_chain):\n\u001B[0;32m     88\u001B[0m     \u001B[38;5;28;01mif\u001B[39;00m i \u001B[38;5;241m<\u001B[39m \u001B[38;5;28mlen\u001B[39m(attr_chain) \u001B[38;5;241m-\u001B[39m \u001B[38;5;241m1\u001B[39m:\n\u001B[1;32m---> 89\u001B[0m         result \u001B[38;5;241m=\u001B[39m \u001B[43mdeep_getattr\u001B[49m\u001B[43m(\u001B[49m\n\u001B[0;32m     90\u001B[0m \u001B[43m            \u001B[49m\u001B[43mresult\u001B[49m\u001B[43m,\u001B[49m\n\u001B[0;32m     91\u001B[0m \u001B[43m            \u001B[49m\u001B[43mattr\u001B[49m\u001B[43m,\u001B[49m\n\u001B[0;32m     92\u001B[0m \u001B[43m            \u001B[49m\u001B[43mgetattr_func\u001B[49m\u001B[38;5;241;43m=\u001B[39;49m\u001B[43mgetattr_func\u001B[49m\u001B[43m,\u001B[49m\n\u001B[0;32m     93\u001B[0m \u001B[43m            \u001B[49m\u001B[43mcall_last_attr\u001B[49m\u001B[38;5;241;43m=\u001B[39;49m\u001B[38;5;28;43;01mTrue\u001B[39;49;00m\n\u001B[0;32m     94\u001B[0m \u001B[43m        \u001B[49m\u001B[43m)\u001B[49m\n\u001B[0;32m     95\u001B[0m     \u001B[38;5;28;01melse\u001B[39;00m:\n\u001B[0;32m     96\u001B[0m         result \u001B[38;5;241m=\u001B[39m deep_getattr(\n\u001B[0;32m     97\u001B[0m             result,\n\u001B[0;32m     98\u001B[0m             attr,\n\u001B[0;32m     99\u001B[0m             getattr_func\u001B[38;5;241m=\u001B[39mgetattr_func,\n\u001B[0;32m    100\u001B[0m             call_last_attr\u001B[38;5;241m=\u001B[39mcall_last_attr\n\u001B[0;32m    101\u001B[0m         )\n",
      "File \u001B[1;32m~\\anaconda3\\envs\\tradingbot\\lib\\site-packages\\vectorbt\\utils\\attr_.py:72\u001B[0m, in \u001B[0;36mdeep_getattr\u001B[1;34m(obj, attr_chain, getattr_func, call_last_attr)\u001B[0m\n\u001B[0;32m     65\u001B[0m     \u001B[38;5;28;01mif\u001B[39;00m \u001B[38;5;124m'\u001B[39m\u001B[38;5;124m.\u001B[39m\u001B[38;5;124m'\u001B[39m \u001B[38;5;129;01min\u001B[39;00m attr_chain:\n\u001B[0;32m     66\u001B[0m         \u001B[38;5;28;01mreturn\u001B[39;00m deep_getattr(\n\u001B[0;32m     67\u001B[0m             obj,\n\u001B[0;32m     68\u001B[0m             attr_chain\u001B[38;5;241m.\u001B[39msplit(\u001B[38;5;124m'\u001B[39m\u001B[38;5;124m.\u001B[39m\u001B[38;5;124m'\u001B[39m),\n\u001B[0;32m     69\u001B[0m             getattr_func\u001B[38;5;241m=\u001B[39mgetattr_func,\n\u001B[0;32m     70\u001B[0m             call_last_attr\u001B[38;5;241m=\u001B[39mcall_last_attr\n\u001B[0;32m     71\u001B[0m         )\n\u001B[1;32m---> 72\u001B[0m     \u001B[38;5;28;01mreturn\u001B[39;00m \u001B[43mgetattr_func\u001B[49m\u001B[43m(\u001B[49m\u001B[43mobj\u001B[49m\u001B[43m,\u001B[49m\u001B[43m \u001B[49m\u001B[43mattr_chain\u001B[49m\u001B[43m,\u001B[49m\u001B[43m \u001B[49m\u001B[43mcall_attr\u001B[49m\u001B[38;5;241;43m=\u001B[39;49m\u001B[43mcall_last_attr\u001B[49m\u001B[43m)\u001B[49m\n\u001B[0;32m     73\u001B[0m \u001B[38;5;28;01mif\u001B[39;00m \u001B[38;5;28misinstance\u001B[39m(attr_chain, \u001B[38;5;28mtuple\u001B[39m):\n\u001B[0;32m     74\u001B[0m     \u001B[38;5;28;01mif\u001B[39;00m \u001B[38;5;28mlen\u001B[39m(attr_chain) \u001B[38;5;241m==\u001B[39m \u001B[38;5;241m1\u001B[39m \\\n\u001B[0;32m     75\u001B[0m             \u001B[38;5;129;01mand\u001B[39;00m \u001B[38;5;28misinstance\u001B[39m(attr_chain[\u001B[38;5;241m0\u001B[39m], \u001B[38;5;28mstr\u001B[39m):\n",
      "File \u001B[1;32m~\\anaconda3\\envs\\tradingbot\\lib\\site-packages\\vectorbt\\generic\\stats_builder.py:472\u001B[0m, in \u001B[0;36mStatsBuilderMixin.stats.<locals>._getattr_func\u001B[1;34m(obj, attr, args, kwargs, call_attr, _final_kwargs, _opt_arg_names, _custom_arg_names, _arg_cache_dct)\u001B[0m\n\u001B[0;32m    470\u001B[0m \u001B[38;5;28;01mif\u001B[39;00m obj \u001B[38;5;129;01mis\u001B[39;00m custom_reself \u001B[38;5;129;01mand\u001B[39;00m _final_kwargs\u001B[38;5;241m.\u001B[39mpop(\u001B[38;5;124m'\u001B[39m\u001B[38;5;124mresolve_path_\u001B[39m\u001B[38;5;124m'\u001B[39m \u001B[38;5;241m+\u001B[39m attr, \u001B[38;5;28;01mTrue\u001B[39;00m):\n\u001B[0;32m    471\u001B[0m     \u001B[38;5;28;01mif\u001B[39;00m call_attr:\n\u001B[1;32m--> 472\u001B[0m         \u001B[38;5;28;01mreturn\u001B[39;00m \u001B[43mcustom_reself\u001B[49m\u001B[38;5;241;43m.\u001B[39;49m\u001B[43mresolve_attr\u001B[49m\u001B[43m(\u001B[49m\n\u001B[0;32m    473\u001B[0m \u001B[43m            \u001B[49m\u001B[43mattr\u001B[49m\u001B[43m,\u001B[49m\n\u001B[0;32m    474\u001B[0m \u001B[43m            \u001B[49m\u001B[43margs\u001B[49m\u001B[38;5;241;43m=\u001B[39;49m\u001B[43margs\u001B[49m\u001B[43m,\u001B[49m\n\u001B[0;32m    475\u001B[0m \u001B[43m            \u001B[49m\u001B[43mcond_kwargs\u001B[49m\u001B[38;5;241;43m=\u001B[39;49m\u001B[43m{\u001B[49m\u001B[43mk\u001B[49m\u001B[43m:\u001B[49m\u001B[43m \u001B[49m\u001B[43mv\u001B[49m\u001B[43m \u001B[49m\u001B[38;5;28;43;01mfor\u001B[39;49;00m\u001B[43m \u001B[49m\u001B[43mk\u001B[49m\u001B[43m,\u001B[49m\u001B[43m \u001B[49m\u001B[43mv\u001B[49m\u001B[43m \u001B[49m\u001B[38;5;129;43;01min\u001B[39;49;00m\u001B[43m \u001B[49m\u001B[43m_final_kwargs\u001B[49m\u001B[38;5;241;43m.\u001B[39;49m\u001B[43mitems\u001B[49m\u001B[43m(\u001B[49m\u001B[43m)\u001B[49m\u001B[43m \u001B[49m\u001B[38;5;28;43;01mif\u001B[39;49;00m\u001B[43m \u001B[49m\u001B[43mk\u001B[49m\u001B[43m \u001B[49m\u001B[38;5;129;43;01min\u001B[39;49;00m\u001B[43m \u001B[49m\u001B[43m_opt_arg_names\u001B[49m\u001B[43m}\u001B[49m\u001B[43m,\u001B[49m\n\u001B[0;32m    476\u001B[0m \u001B[43m            \u001B[49m\u001B[43mkwargs\u001B[49m\u001B[38;5;241;43m=\u001B[39;49m\u001B[43mkwargs\u001B[49m\u001B[43m,\u001B[49m\n\u001B[0;32m    477\u001B[0m \u001B[43m            \u001B[49m\u001B[43mcustom_arg_names\u001B[49m\u001B[38;5;241;43m=\u001B[39;49m\u001B[43m_custom_arg_names\u001B[49m\u001B[43m,\u001B[49m\n\u001B[0;32m    478\u001B[0m \u001B[43m            \u001B[49m\u001B[43mcache_dct\u001B[49m\u001B[38;5;241;43m=\u001B[39;49m\u001B[43m_arg_cache_dct\u001B[49m\u001B[43m,\u001B[49m\n\u001B[0;32m    479\u001B[0m \u001B[43m            \u001B[49m\u001B[43muse_caching\u001B[49m\u001B[38;5;241;43m=\u001B[39;49m\u001B[43muse_caching\u001B[49m\u001B[43m,\u001B[49m\n\u001B[0;32m    480\u001B[0m \u001B[43m            \u001B[49m\u001B[43mpassed_kwargs_out\u001B[49m\u001B[38;5;241;43m=\u001B[39;49m\u001B[43mpassed_kwargs_out\u001B[49m\n\u001B[0;32m    481\u001B[0m \u001B[43m        \u001B[49m\u001B[43m)\u001B[49m\n\u001B[0;32m    482\u001B[0m     \u001B[38;5;28;01mreturn\u001B[39;00m \u001B[38;5;28mgetattr\u001B[39m(obj, attr)\n\u001B[0;32m    483\u001B[0m out \u001B[38;5;241m=\u001B[39m \u001B[38;5;28mgetattr\u001B[39m(obj, attr)\n",
      "File \u001B[1;32m~\\anaconda3\\envs\\tradingbot\\lib\\site-packages\\vectorbt\\utils\\attr_.py:191\u001B[0m, in \u001B[0;36mAttrResolver.resolve_attr\u001B[1;34m(self, attr, args, cond_kwargs, kwargs, custom_arg_names, cache_dct, use_caching, passed_kwargs_out)\u001B[0m\n\u001B[0;32m    189\u001B[0m     out \u001B[38;5;241m=\u001B[39m cache_dct[attr]\n\u001B[0;32m    190\u001B[0m \u001B[38;5;28;01melse\u001B[39;00m:\n\u001B[1;32m--> 191\u001B[0m     out \u001B[38;5;241m=\u001B[39m attr_func(\u001B[38;5;241m*\u001B[39margs, \u001B[38;5;241m*\u001B[39m\u001B[38;5;241m*\u001B[39mattr_func_kwargs)\n\u001B[0;32m    192\u001B[0m     \u001B[38;5;28;01mif\u001B[39;00m use_caching \u001B[38;5;129;01mand\u001B[39;00m \u001B[38;5;129;01mnot\u001B[39;00m custom_k:\n\u001B[0;32m    193\u001B[0m         cache_dct[attr] \u001B[38;5;241m=\u001B[39m out\n",
      "File \u001B[1;32m~\\anaconda3\\envs\\tradingbot\\lib\\site-packages\\vectorbt\\utils\\decorators.py:443\u001B[0m, in \u001B[0;36mcached_method.<locals>.decorator.<locals>.wrapper\u001B[1;34m(instance, *args, **kwargs)\u001B[0m\n\u001B[0;32m    440\u001B[0m \u001B[38;5;28;01mif\u001B[39;00m \u001B[38;5;129;01mnot\u001B[39;00m hashable:\n\u001B[0;32m    441\u001B[0m     \u001B[38;5;66;03m# If not, do not invoke lru_cache\u001B[39;00m\n\u001B[0;32m    442\u001B[0m     \u001B[38;5;28;01mreturn\u001B[39;00m func(instance, \u001B[38;5;241m*\u001B[39margs, \u001B[38;5;241m*\u001B[39m\u001B[38;5;241m*\u001B[39mkwargs)\n\u001B[1;32m--> 443\u001B[0m \u001B[38;5;28;01mreturn\u001B[39;00m cached_func(\u001B[38;5;241m*\u001B[39margs, \u001B[38;5;241m*\u001B[39m\u001B[38;5;241m*\u001B[39mkwargs)\n",
      "File \u001B[1;32m~\\anaconda3\\envs\\tradingbot\\lib\\site-packages\\vectorbt\\utils\\decorators.py:413\u001B[0m, in \u001B[0;36mcached_method.<locals>.decorator.<locals>.wrapper.<locals>.partial_func\u001B[1;34m(*args, **kwargs)\u001B[0m\n\u001B[0;32m    411\u001B[0m \u001B[38;5;28;01mdef\u001B[39;00m \u001B[38;5;21mpartial_func\u001B[39m(\u001B[38;5;241m*\u001B[39margs, \u001B[38;5;241m*\u001B[39m\u001B[38;5;241m*\u001B[39mkwargs) \u001B[38;5;241m-\u001B[39m\u001B[38;5;241m>\u001B[39m tp\u001B[38;5;241m.\u001B[39mAny:\n\u001B[0;32m    412\u001B[0m     \u001B[38;5;66;03m# Ignores non-hashable instances\u001B[39;00m\n\u001B[1;32m--> 413\u001B[0m     \u001B[38;5;28;01mreturn\u001B[39;00m func(instance, \u001B[38;5;241m*\u001B[39margs, \u001B[38;5;241m*\u001B[39m\u001B[38;5;241m*\u001B[39mkwargs)\n",
      "File \u001B[1;32m~\\anaconda3\\envs\\tradingbot\\lib\\site-packages\\vectorbt\\portfolio\\base.py:4300\u001B[0m, in \u001B[0;36mPortfolio.gross_exposure\u001B[1;34m(self, direction, group_by, wrap_kwargs)\u001B[0m\n\u001B[0;32m   4296\u001B[0m \u001B[38;5;129m@cached_method\u001B[39m\n\u001B[0;32m   4297\u001B[0m \u001B[38;5;28;01mdef\u001B[39;00m \u001B[38;5;21mgross_exposure\u001B[39m(\u001B[38;5;28mself\u001B[39m, direction: \u001B[38;5;28mstr\u001B[39m \u001B[38;5;241m=\u001B[39m \u001B[38;5;124m'\u001B[39m\u001B[38;5;124mboth\u001B[39m\u001B[38;5;124m'\u001B[39m, group_by: tp\u001B[38;5;241m.\u001B[39mGroupByLike \u001B[38;5;241m=\u001B[39m \u001B[38;5;28;01mNone\u001B[39;00m,\n\u001B[0;32m   4298\u001B[0m                    wrap_kwargs: tp\u001B[38;5;241m.\u001B[39mKwargsLike \u001B[38;5;241m=\u001B[39m \u001B[38;5;28;01mNone\u001B[39;00m) \u001B[38;5;241m-\u001B[39m\u001B[38;5;241m>\u001B[39m tp\u001B[38;5;241m.\u001B[39mSeriesFrame:\n\u001B[0;32m   4299\u001B[0m \u001B[38;5;250m    \u001B[39m\u001B[38;5;124;03m\"\"\"Get gross exposure.\"\"\"\u001B[39;00m\n\u001B[1;32m-> 4300\u001B[0m     asset_value \u001B[38;5;241m=\u001B[39m to_2d_array(\u001B[38;5;28;43mself\u001B[39;49m\u001B[38;5;241;43m.\u001B[39;49m\u001B[43masset_value\u001B[49m\u001B[43m(\u001B[49m\u001B[43mgroup_by\u001B[49m\u001B[38;5;241;43m=\u001B[39;49m\u001B[43mgroup_by\u001B[49m\u001B[43m,\u001B[49m\u001B[43m \u001B[49m\u001B[43mdirection\u001B[49m\u001B[38;5;241;43m=\u001B[39;49m\u001B[43mdirection\u001B[49m\u001B[43m)\u001B[49m)\n\u001B[0;32m   4301\u001B[0m     cash \u001B[38;5;241m=\u001B[39m to_2d_array(\u001B[38;5;28mself\u001B[39m\u001B[38;5;241m.\u001B[39mcash(group_by\u001B[38;5;241m=\u001B[39mgroup_by, free\u001B[38;5;241m=\u001B[39m\u001B[38;5;28;01mTrue\u001B[39;00m))\n\u001B[0;32m   4302\u001B[0m     gross_exposure \u001B[38;5;241m=\u001B[39m nb\u001B[38;5;241m.\u001B[39mgross_exposure_nb(asset_value, cash)\n",
      "File \u001B[1;32m~\\anaconda3\\envs\\tradingbot\\lib\\site-packages\\vectorbt\\utils\\decorators.py:443\u001B[0m, in \u001B[0;36mcached_method.<locals>.decorator.<locals>.wrapper\u001B[1;34m(instance, *args, **kwargs)\u001B[0m\n\u001B[0;32m    440\u001B[0m \u001B[38;5;28;01mif\u001B[39;00m \u001B[38;5;129;01mnot\u001B[39;00m hashable:\n\u001B[0;32m    441\u001B[0m     \u001B[38;5;66;03m# If not, do not invoke lru_cache\u001B[39;00m\n\u001B[0;32m    442\u001B[0m     \u001B[38;5;28;01mreturn\u001B[39;00m func(instance, \u001B[38;5;241m*\u001B[39margs, \u001B[38;5;241m*\u001B[39m\u001B[38;5;241m*\u001B[39mkwargs)\n\u001B[1;32m--> 443\u001B[0m \u001B[38;5;28;01mreturn\u001B[39;00m cached_func(\u001B[38;5;241m*\u001B[39margs, \u001B[38;5;241m*\u001B[39m\u001B[38;5;241m*\u001B[39mkwargs)\n",
      "File \u001B[1;32m~\\anaconda3\\envs\\tradingbot\\lib\\site-packages\\vectorbt\\utils\\decorators.py:413\u001B[0m, in \u001B[0;36mcached_method.<locals>.decorator.<locals>.wrapper.<locals>.partial_func\u001B[1;34m(*args, **kwargs)\u001B[0m\n\u001B[0;32m    411\u001B[0m \u001B[38;5;28;01mdef\u001B[39;00m \u001B[38;5;21mpartial_func\u001B[39m(\u001B[38;5;241m*\u001B[39margs, \u001B[38;5;241m*\u001B[39m\u001B[38;5;241m*\u001B[39mkwargs) \u001B[38;5;241m-\u001B[39m\u001B[38;5;241m>\u001B[39m tp\u001B[38;5;241m.\u001B[39mAny:\n\u001B[0;32m    412\u001B[0m     \u001B[38;5;66;03m# Ignores non-hashable instances\u001B[39;00m\n\u001B[1;32m--> 413\u001B[0m     \u001B[38;5;28;01mreturn\u001B[39;00m func(instance, \u001B[38;5;241m*\u001B[39margs, \u001B[38;5;241m*\u001B[39m\u001B[38;5;241m*\u001B[39mkwargs)\n",
      "File \u001B[1;32m~\\anaconda3\\envs\\tradingbot\\lib\\site-packages\\vectorbt\\portfolio\\base.py:4286\u001B[0m, in \u001B[0;36mPortfolio.asset_value\u001B[1;34m(self, direction, group_by, wrap_kwargs)\u001B[0m\n\u001B[0;32m   4284\u001B[0m \u001B[38;5;28;01melse\u001B[39;00m:\n\u001B[0;32m   4285\u001B[0m     close \u001B[38;5;241m=\u001B[39m to_2d_array(\u001B[38;5;28mself\u001B[39m\u001B[38;5;241m.\u001B[39mclose)\u001B[38;5;241m.\u001B[39mcopy()\n\u001B[1;32m-> 4286\u001B[0m assets \u001B[38;5;241m=\u001B[39m to_2d_array(\u001B[38;5;28;43mself\u001B[39;49m\u001B[38;5;241;43m.\u001B[39;49m\u001B[43massets\u001B[49m\u001B[43m(\u001B[49m\u001B[43mdirection\u001B[49m\u001B[38;5;241;43m=\u001B[39;49m\u001B[43mdirection\u001B[49m\u001B[43m)\u001B[49m)\n\u001B[0;32m   4287\u001B[0m close[assets \u001B[38;5;241m==\u001B[39m \u001B[38;5;241m0\u001B[39m] \u001B[38;5;241m=\u001B[39m \u001B[38;5;241m0.\u001B[39m  \u001B[38;5;66;03m# for price being NaN\u001B[39;00m\n\u001B[0;32m   4288\u001B[0m \u001B[38;5;28;01mif\u001B[39;00m \u001B[38;5;28mself\u001B[39m\u001B[38;5;241m.\u001B[39mwrapper\u001B[38;5;241m.\u001B[39mgrouper\u001B[38;5;241m.\u001B[39mis_grouped(group_by\u001B[38;5;241m=\u001B[39mgroup_by):\n",
      "File \u001B[1;32m~\\anaconda3\\envs\\tradingbot\\lib\\site-packages\\vectorbt\\utils\\decorators.py:443\u001B[0m, in \u001B[0;36mcached_method.<locals>.decorator.<locals>.wrapper\u001B[1;34m(instance, *args, **kwargs)\u001B[0m\n\u001B[0;32m    440\u001B[0m \u001B[38;5;28;01mif\u001B[39;00m \u001B[38;5;129;01mnot\u001B[39;00m hashable:\n\u001B[0;32m    441\u001B[0m     \u001B[38;5;66;03m# If not, do not invoke lru_cache\u001B[39;00m\n\u001B[0;32m    442\u001B[0m     \u001B[38;5;28;01mreturn\u001B[39;00m func(instance, \u001B[38;5;241m*\u001B[39margs, \u001B[38;5;241m*\u001B[39m\u001B[38;5;241m*\u001B[39mkwargs)\n\u001B[1;32m--> 443\u001B[0m \u001B[38;5;28;01mreturn\u001B[39;00m cached_func(\u001B[38;5;241m*\u001B[39margs, \u001B[38;5;241m*\u001B[39m\u001B[38;5;241m*\u001B[39mkwargs)\n",
      "File \u001B[1;32m~\\anaconda3\\envs\\tradingbot\\lib\\site-packages\\vectorbt\\utils\\decorators.py:413\u001B[0m, in \u001B[0;36mcached_method.<locals>.decorator.<locals>.wrapper.<locals>.partial_func\u001B[1;34m(*args, **kwargs)\u001B[0m\n\u001B[0;32m    411\u001B[0m \u001B[38;5;28;01mdef\u001B[39;00m \u001B[38;5;21mpartial_func\u001B[39m(\u001B[38;5;241m*\u001B[39margs, \u001B[38;5;241m*\u001B[39m\u001B[38;5;241m*\u001B[39mkwargs) \u001B[38;5;241m-\u001B[39m\u001B[38;5;241m>\u001B[39m tp\u001B[38;5;241m.\u001B[39mAny:\n\u001B[0;32m    412\u001B[0m     \u001B[38;5;66;03m# Ignores non-hashable instances\u001B[39;00m\n\u001B[1;32m--> 413\u001B[0m     \u001B[38;5;28;01mreturn\u001B[39;00m func(instance, \u001B[38;5;241m*\u001B[39margs, \u001B[38;5;241m*\u001B[39m\u001B[38;5;241m*\u001B[39mkwargs)\n",
      "File \u001B[1;32m~\\anaconda3\\envs\\tradingbot\\lib\\site-packages\\vectorbt\\portfolio\\base.py:4148\u001B[0m, in \u001B[0;36mPortfolio.assets\u001B[1;34m(self, direction, wrap_kwargs)\u001B[0m\n\u001B[0;32m   4144\u001B[0m \u001B[38;5;250m\u001B[39m\u001B[38;5;124;03m\"\"\"Get asset series per column.\u001B[39;00m\n\u001B[0;32m   4145\u001B[0m \n\u001B[0;32m   4146\u001B[0m \u001B[38;5;124;03mReturns the current position at each time step.\"\"\"\u001B[39;00m\n\u001B[0;32m   4147\u001B[0m direction \u001B[38;5;241m=\u001B[39m map_enum_fields(direction, Direction)\n\u001B[1;32m-> 4148\u001B[0m asset_flow \u001B[38;5;241m=\u001B[39m to_2d_array(\u001B[38;5;28;43mself\u001B[39;49m\u001B[38;5;241;43m.\u001B[39;49m\u001B[43masset_flow\u001B[49m\u001B[43m(\u001B[49m\u001B[43mdirection\u001B[49m\u001B[38;5;241;43m=\u001B[39;49m\u001B[38;5;124;43m'\u001B[39;49m\u001B[38;5;124;43mboth\u001B[39;49m\u001B[38;5;124;43m'\u001B[39;49m\u001B[43m)\u001B[49m)\n\u001B[0;32m   4149\u001B[0m assets \u001B[38;5;241m=\u001B[39m nb\u001B[38;5;241m.\u001B[39massets_nb(asset_flow)\n\u001B[0;32m   4150\u001B[0m \u001B[38;5;28;01mif\u001B[39;00m direction \u001B[38;5;241m==\u001B[39m Direction\u001B[38;5;241m.\u001B[39mLongOnly:\n",
      "File \u001B[1;32m~\\anaconda3\\envs\\tradingbot\\lib\\site-packages\\vectorbt\\utils\\decorators.py:443\u001B[0m, in \u001B[0;36mcached_method.<locals>.decorator.<locals>.wrapper\u001B[1;34m(instance, *args, **kwargs)\u001B[0m\n\u001B[0;32m    440\u001B[0m \u001B[38;5;28;01mif\u001B[39;00m \u001B[38;5;129;01mnot\u001B[39;00m hashable:\n\u001B[0;32m    441\u001B[0m     \u001B[38;5;66;03m# If not, do not invoke lru_cache\u001B[39;00m\n\u001B[0;32m    442\u001B[0m     \u001B[38;5;28;01mreturn\u001B[39;00m func(instance, \u001B[38;5;241m*\u001B[39margs, \u001B[38;5;241m*\u001B[39m\u001B[38;5;241m*\u001B[39mkwargs)\n\u001B[1;32m--> 443\u001B[0m \u001B[38;5;28;01mreturn\u001B[39;00m cached_func(\u001B[38;5;241m*\u001B[39margs, \u001B[38;5;241m*\u001B[39m\u001B[38;5;241m*\u001B[39mkwargs)\n",
      "File \u001B[1;32m~\\anaconda3\\envs\\tradingbot\\lib\\site-packages\\vectorbt\\utils\\decorators.py:413\u001B[0m, in \u001B[0;36mcached_method.<locals>.decorator.<locals>.wrapper.<locals>.partial_func\u001B[1;34m(*args, **kwargs)\u001B[0m\n\u001B[0;32m    411\u001B[0m \u001B[38;5;28;01mdef\u001B[39;00m \u001B[38;5;21mpartial_func\u001B[39m(\u001B[38;5;241m*\u001B[39margs, \u001B[38;5;241m*\u001B[39m\u001B[38;5;241m*\u001B[39mkwargs) \u001B[38;5;241m-\u001B[39m\u001B[38;5;241m>\u001B[39m tp\u001B[38;5;241m.\u001B[39mAny:\n\u001B[0;32m    412\u001B[0m     \u001B[38;5;66;03m# Ignores non-hashable instances\u001B[39;00m\n\u001B[1;32m--> 413\u001B[0m     \u001B[38;5;28;01mreturn\u001B[39;00m func(instance, \u001B[38;5;241m*\u001B[39margs, \u001B[38;5;241m*\u001B[39m\u001B[38;5;241m*\u001B[39mkwargs)\n",
      "File \u001B[1;32m~\\anaconda3\\envs\\tradingbot\\lib\\site-packages\\vectorbt\\portfolio\\base.py:4134\u001B[0m, in \u001B[0;36mPortfolio.asset_flow\u001B[1;34m(self, direction, wrap_kwargs)\u001B[0m\n\u001B[0;32m   4130\u001B[0m \u001B[38;5;250m\u001B[39m\u001B[38;5;124;03m\"\"\"Get asset flow series per column.\u001B[39;00m\n\u001B[0;32m   4131\u001B[0m \n\u001B[0;32m   4132\u001B[0m \u001B[38;5;124;03mReturns the total transacted amount of assets at each time step.\"\"\"\u001B[39;00m\n\u001B[0;32m   4133\u001B[0m direction \u001B[38;5;241m=\u001B[39m map_enum_fields(direction, Direction)\n\u001B[1;32m-> 4134\u001B[0m asset_flow \u001B[38;5;241m=\u001B[39m \u001B[43mnb\u001B[49m\u001B[38;5;241;43m.\u001B[39;49m\u001B[43masset_flow_nb\u001B[49m\u001B[43m(\u001B[49m\n\u001B[0;32m   4135\u001B[0m \u001B[43m    \u001B[49m\u001B[38;5;28;43mself\u001B[39;49m\u001B[38;5;241;43m.\u001B[39;49m\u001B[43mwrapper\u001B[49m\u001B[38;5;241;43m.\u001B[39;49m\u001B[43mshape_2d\u001B[49m\u001B[43m,\u001B[49m\n\u001B[0;32m   4136\u001B[0m \u001B[43m    \u001B[49m\u001B[38;5;28;43mself\u001B[39;49m\u001B[38;5;241;43m.\u001B[39;49m\u001B[43morders\u001B[49m\u001B[38;5;241;43m.\u001B[39;49m\u001B[43mvalues\u001B[49m\u001B[43m,\u001B[49m\n\u001B[0;32m   4137\u001B[0m \u001B[43m    \u001B[49m\u001B[38;5;28;43mself\u001B[39;49m\u001B[38;5;241;43m.\u001B[39;49m\u001B[43morders\u001B[49m\u001B[38;5;241;43m.\u001B[39;49m\u001B[43mcol_mapper\u001B[49m\u001B[38;5;241;43m.\u001B[39;49m\u001B[43mcol_map\u001B[49m\u001B[43m,\u001B[49m\n\u001B[0;32m   4138\u001B[0m \u001B[43m    \u001B[49m\u001B[43mdirection\u001B[49m\n\u001B[0;32m   4139\u001B[0m \u001B[43m\u001B[49m\u001B[43m)\u001B[49m\n\u001B[0;32m   4140\u001B[0m \u001B[38;5;28;01mreturn\u001B[39;00m \u001B[38;5;28mself\u001B[39m\u001B[38;5;241m.\u001B[39mwrapper\u001B[38;5;241m.\u001B[39mwrap(asset_flow, group_by\u001B[38;5;241m=\u001B[39m\u001B[38;5;28;01mFalse\u001B[39;00m, \u001B[38;5;241m*\u001B[39m\u001B[38;5;241m*\u001B[39mmerge_dicts({}, wrap_kwargs))\n",
      "\u001B[1;31mMemoryError\u001B[0m: Allocation failed (probably too large)."
     ]
    }
   ],
   "source": [
    "bullish_engulfing = talib.CDLENGULFING(data['Open'], data['High'], data['Low'], data['Close'])\n",
    "RSI = vbt.IndicatorFactory.from_talib('RSI')\n",
    "SMA = vbt.IndicatorFactory.from_talib('SMA')\n",
    "\n",
    "@njit\n",
    "def buy_signal(close, sma_small, sma_medium, sma_large, bullish_engulfing, rsi, rsi_buy):\n",
    "    buy = np.where((close>sma_small) & (sma_small>sma_medium) & (sma_medium>sma_large) & (bullish_engulfing==100) & (rsi > rsi_buy), 1, 0)\n",
    "    return buy\n",
    "\n",
    "@njit\n",
    "def stop_signal(low, high, stop_multiplier, close):\n",
    "    stop_loss = -1*(((low - (high-low)*stop_multiplier)-close)/close)\n",
    "    return stop_loss\n",
    "\n",
    "@njit\n",
    "def profit_signal(high, low, profit_multiplier, close):\n",
    "    profit = ((high + ((high-low)*profit_multiplier)-close)/close)\n",
    "    return profit\n",
    "\n",
    "def three_ma(close, high, low, bullish_engulfing, rsi_window, sma_window_large, sma_window_medium, sma_window_small, rsi_buy, profit_multiplier, stop_multiplier):\n",
    "    rsi = RSI.run(close, rsi_window).real.to_numpy()\n",
    "    sma_large = SMA.run(close, sma_window_large).real.to_numpy()\n",
    "    sma_medium = SMA.run(close, sma_window_medium).real.to_numpy()\n",
    "    sma_small = SMA.run(close, sma_window_small).real.to_numpy()\n",
    "\n",
    "    entries = buy_signal(close, sma_small, sma_medium, sma_large, bullish_engulfing, rsi, rsi_buy) == 1\n",
    "\n",
    "\n",
    "    return entries, profit_signal(high, low, profit_multiplier, close), stop_signal(low, high, stop_multiplier, close)\n",
    "\n",
    "\n",
    "three_ma = vbt.IndicatorFactory(\n",
    "    class_name = \"three_ma\",\n",
    "    short_name = \"three_ma\",\n",
    "    input_names = ['close', 'high', 'low', 'bullish_engulfing'],\n",
    "    output_names = ['buy', 'profit', 'stop_loss'],\n",
    "    param_names=['rsi_window', 'sma_window_large', 'sma_window_medium', 'sma_window_small', 'rsi_buy', 'profit_multiplier', 'stop_multiplier']\n",
    ").from_apply_func(three_ma, rsi_window = 14, sma_window_large = 200, sma_window_medium = 50, sma_window_small = 21, rsi_buy = 50, profit_multiplier = 4, stop_multiplier = 2)\n",
    "\n",
    "\n",
    "\n",
    "#sma_windows = np.arange(15,25,step=3,dtype=int)\n",
    "\n",
    "#master_returns = []\n",
    "\n",
    "#for window in sma_windows:\n",
    "order = three_ma.run(\n",
    "        data['Close'],\n",
    "        data['High'],\n",
    "        data['Low'],\n",
    "        bullish_engulfing,\n",
    "        rsi_window = 14,\n",
    "        sma_window_large = 200,\n",
    "        sma_window_medium = 50,\n",
    "        #sma_window_small = window,\n",
    "        #rsi_buy = np.arange(35,65,step=5,dtype=int),\n",
    "        profit_multiplier =  np.arange(2,5,step=.1,dtype=float),\n",
    "        stop_multiplier = np.arange(.5,2.5,step=.1,dtype=float),\n",
    "        param_product = True,\n",
    "        to_2d = False\n",
    "    )\n",
    "\n",
    "pf = vbt.Portfolio.from_signals(data['Close'], order.buy, sl_stop = order.stop_loss, tp_stop = order.profit, init_cash=10000, freq='5m')\n",
    " #   master_returns.append(pf.total_return())\n",
    "\n",
    "#print(master_returns)\n",
    "pf.stats()\n",
    "#orders = pf.orders\n",
    "#returns = pf.total_return()\n",
    "#print(returns)\n",
    "#print(returns.max())\n",
    "\n"
   ]
  },
  {
   "cell_type": "code",
   "execution_count": null,
   "metadata": {
    "ExecuteTime": {
     "start_time": "2023-05-22T22:53:52.132367Z",
     "end_time": "2023-05-22T22:53:52.146330Z"
    }
   },
   "outputs": [],
   "source": [
    "\n",
    "\n"
   ]
  },
  {
   "cell_type": "code",
   "execution_count": null,
   "outputs": [],
   "source": [],
   "metadata": {
    "collapsed": false,
    "ExecuteTime": {
     "start_time": "2023-05-22T22:53:52.147327Z",
     "end_time": "2023-05-22T22:53:52.168270Z"
    }
   }
  }
 ],
 "metadata": {
  "kernelspec": {
   "display_name": "Python 3 (ipykernel)",
   "language": "python",
   "name": "python3"
  },
  "language_info": {
   "codemirror_mode": {
    "name": "ipython",
    "version": 3
   },
   "file_extension": ".py",
   "mimetype": "text/x-python",
   "name": "python",
   "nbconvert_exporter": "python",
   "pygments_lexer": "ipython3",
   "version": "3.9.13"
  }
 },
 "nbformat": 4,
 "nbformat_minor": 1
}
