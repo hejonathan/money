{
 "cells": [
  {
   "cell_type": "code",
   "execution_count": 1,
   "metadata": {
    "ExecuteTime": {
     "start_time": "2023-05-18T05:41:01.160230Z",
     "end_time": "2023-05-18T05:41:07.813184Z"
    }
   },
   "outputs": [],
   "source": [
    "import vectorbt as vbt\n",
    "import numpy as np\n",
    "import numpy.ma as ma\n",
    "import pandas as pd\n",
    "import inspect\n",
    "import datetime\n",
    "import talib\n",
    "from numba import njit\n",
    "from IPython.display import display, HTML\n",
    "\n",
    "\n",
    "vbt.settings.data['alpaca']['key_id'] = 'PK2XNKDSJH4PVPCYDK8E'\n",
    "vbt.settings.data['alpaca']['secret_key'] = 'f5cD1kbR3p5RRfgvNgDiQ09qRpi4LCYmPZprl3KM'"
   ]
  },
  {
   "cell_type": "code",
   "execution_count": 2,
   "metadata": {
    "ExecuteTime": {
     "start_time": "2023-05-18T05:41:07.816176Z",
     "end_time": "2023-05-18T05:41:16.569679Z"
    }
   },
   "outputs": [
    {
     "data": {
      "application/vnd.jupyter.widget-view+json": {
       "version_major": 2,
       "version_minor": 0,
       "model_id": "db49fc01849742cbb37d671669dc6578"
      },
      "text/plain": "FigureWidget({\n    'data': [{'close': array([176.61, 176.45, 176.54, ..., 152.58, 152.49, 152.49]),\n              'decreasing': {'line': {'color': '#d95f02'}},\n              'high': array([176.8 , 176.66, 176.54, ..., 152.65, 152.59, 152.54]),\n              'increasing': {'line': {'color': '#1b9e76'}},\n              'low': array([176.61, 176.22, 176.36, ..., 152.54, 152.49, 152.46]),\n              'name': 'Candlestick',\n              'open': array([176.72, 176.66, 176.37, ..., 152.65, 152.59, 152.48]),\n              'type': 'candlestick',\n              'uid': '1466f854-d605-4ffc-9b23-1504380dec2d',\n              'x': array([datetime.datetime(2022, 1, 3, 9, 0, tzinfo=datetime.timezone.utc),\n                          datetime.datetime(2022, 1, 3, 9, 5, tzinfo=datetime.timezone.utc),\n                          datetime.datetime(2022, 1, 3, 9, 10, tzinfo=datetime.timezone.utc), ...,\n                          datetime.datetime(2023, 3, 15, 23, 45, tzinfo=datetime.timezone.utc),\n                          datetime.datetime(2023, 3, 15, 23, 50, tzinfo=datetime.timezone.utc),\n                          datetime.datetime(2023, 3, 15, 23, 55, tzinfo=datetime.timezone.utc)],\n                         dtype=object),\n              'xaxis': 'x',\n              'yaxis': 'y'},\n             {'marker': {'color': array(['#d95f02', '#d95f02', '#1b9e76', ..., '#d95f02', '#d95f02', '#1b9e76'],\n                                        dtype=object),\n                         'line': {'width': 0}},\n              'name': 'Volume',\n              'opacity': 0.5,\n              'type': 'bar',\n              'uid': '902341a6-9d28-4bdc-9fa4-10ca73061ad9',\n              'x': array([datetime.datetime(2022, 1, 3, 9, 0, tzinfo=datetime.timezone.utc),\n                          datetime.datetime(2022, 1, 3, 9, 5, tzinfo=datetime.timezone.utc),\n                          datetime.datetime(2022, 1, 3, 9, 10, tzinfo=datetime.timezone.utc), ...,\n                          datetime.datetime(2023, 3, 15, 23, 45, tzinfo=datetime.timezone.utc),\n                          datetime.datetime(2023, 3, 15, 23, 50, tzinfo=datetime.timezone.utc),\n                          datetime.datetime(2023, 3, 15, 23, 55, tzinfo=datetime.timezone.utc)],\n                         dtype=object),\n              'xaxis': 'x2',\n              'y': array([6894., 4767., 3598., ..., 6889., 8545., 8271.]),\n              'yaxis': 'y2'}],\n    'layout': {'bargap': 0,\n               'height': 350,\n               'legend': {'orientation': 'h',\n                          'traceorder': 'normal',\n                          'x': 1,\n                          'xanchor': 'right',\n                          'y': 1.02,\n                          'yanchor': 'bottom'},\n               'margin': {'b': 30, 'l': 30, 'r': 30, 't': 30},\n               'showlegend': True,\n               'template': '...',\n               'width': 700,\n               'xaxis': {'anchor': 'y',\n                         'domain': [0.0, 1.0],\n                         'matches': 'x2',\n                         'rangeslider': {'visible': False},\n                         'showgrid': True,\n                         'showticklabels': False},\n               'xaxis2': {'anchor': 'y2', 'domain': [0.0, 1.0], 'showgrid': True},\n               'yaxis': {'anchor': 'x', 'domain': [0.3, 1.0], 'showgrid': True},\n               'yaxis2': {'anchor': 'x2', 'domain': [0.0, 0.3], 'showgrid': True}}\n})"
     },
     "execution_count": 2,
     "metadata": {},
     "output_type": "execute_result"
    }
   ],
   "source": [
    "symbol = 'aapl'\n",
    "data = vbt.AlpacaData.download(symbol,\n",
    "                               start='2022-1-01',\n",
    "                               end='2023-3-16',\n",
    "                               limit=2000000,\n",
    "                               timeframe='5m').get()\n",
    "\n",
    "inspect.signature(data.vbt.ohlcv.plot)\n",
    "data.vbt.ohlcv.plot(plot_type='candlestick')\n"
   ]
  },
  {
   "cell_type": "code",
   "execution_count": 2,
   "outputs": [],
   "source": [],
   "metadata": {
    "collapsed": false,
    "ExecuteTime": {
     "start_time": "2023-05-18T05:41:16.570677Z",
     "end_time": "2023-05-18T05:41:16.598601Z"
    }
   }
  },
  {
   "cell_type": "code",
   "execution_count": 3,
   "metadata": {
    "ExecuteTime": {
     "start_time": "2023-05-18T05:41:16.589626Z",
     "end_time": "2023-05-18T05:46:42.686878Z"
    }
   },
   "outputs": [
    {
     "name": "stdout",
     "output_type": "stream",
     "text": [
      "[three_ma_rsi_window  three_ma_sma_window_large  three_ma_sma_window_medium  three_ma_sma_window_small  three_ma_rsi_buy  three_ma_profit_multiplier  three_ma_stop_multiplier\n",
      "14                   200                        50                          15                         40                2.0                         0.5                         0.233903\n",
      "                                                                                                                                                     0.6                         0.270583\n",
      "                                                                                                                                                     0.7                         0.217390\n",
      "                                                                                                                                                     0.8                         0.209439\n",
      "                                                                                                                                                     0.9                         0.225704\n",
      "                                                                                                                                                                                   ...   \n",
      "                                                                                                       60                4.9                         2.0                         0.164427\n",
      "                                                                                                                                                     2.1                         0.147248\n",
      "                                                                                                                                                     2.2                         0.148943\n",
      "                                                                                                                                                     2.3                         0.121641\n",
      "                                                                                                                                                     2.4                         0.074041\n",
      "Name: total_return, Length: 3000, dtype: float64, three_ma_rsi_window  three_ma_sma_window_large  three_ma_sma_window_medium  three_ma_sma_window_small  three_ma_rsi_buy  three_ma_profit_multiplier  three_ma_stop_multiplier\n",
      "14                   200                        50                          18                         40                2.0                         0.5                         0.247119\n",
      "                                                                                                                                                     0.6                         0.263268\n",
      "                                                                                                                                                     0.7                         0.206881\n",
      "                                                                                                                                                     0.8                         0.198371\n",
      "                                                                                                                                                     0.9                         0.213514\n",
      "                                                                                                                                                                                   ...   \n",
      "                                                                                                       60                4.9                         2.0                         0.127634\n",
      "                                                                                                                                                     2.1                         0.110997\n",
      "                                                                                                                                                     2.2                         0.112638\n",
      "                                                                                                                                                     2.3                         0.086199\n",
      "                                                                                                                                                     2.4                         0.040104\n",
      "Name: total_return, Length: 3000, dtype: float64, three_ma_rsi_window  three_ma_sma_window_large  three_ma_sma_window_medium  three_ma_sma_window_small  three_ma_rsi_buy  three_ma_profit_multiplier  three_ma_stop_multiplier\n",
      "14                   200                        50                          21                         40                2.0                         0.5                         0.321396\n",
      "                                                                                                                                                     0.6                         0.339961\n",
      "                                                                                                                                                     0.7                         0.281592\n",
      "                                                                                                                                                     0.8                         0.270872\n",
      "                                                                                                                                                     0.9                         0.286931\n",
      "                                                                                                                                                                                   ...   \n",
      "                                                                                                       60                4.9                         2.0                         0.125966\n",
      "                                                                                                                                                     2.1                         0.107834\n",
      "                                                                                                                                                     2.2                         0.109470\n",
      "                                                                                                                                                     2.3                         0.083106\n",
      "                                                                                                                                                     2.4                         0.037142\n",
      "Name: total_return, Length: 3000, dtype: float64, three_ma_rsi_window  three_ma_sma_window_large  three_ma_sma_window_medium  three_ma_sma_window_small  three_ma_rsi_buy  three_ma_profit_multiplier  three_ma_stop_multiplier\n",
      "14                   200                        50                          24                         40                2.0                         0.5                         0.319115\n",
      "                                                                                                                                                     0.6                         0.337581\n",
      "                                                                                                                                                     0.7                         0.282390\n",
      "                                                                                                                                                     0.8                         0.273057\n",
      "                                                                                                                                                     0.9                         0.289143\n",
      "                                                                                                                                                                                   ...   \n",
      "                                                                                                       60                4.9                         2.0                         0.081543\n",
      "                                                                                                                                                     2.1                         0.064126\n",
      "                                                                                                                                                     2.2                         0.065698\n",
      "                                                                                                                                                     2.3                         0.040556\n",
      "                                                                                                                                                     2.4                        -0.003486\n",
      "Name: total_return, Length: 3000, dtype: float64]\n"
     ]
    }
   ],
   "source": [
    "bullish_engulfing = talib.CDLENGULFING(data['Open'], data['High'], data['Low'], data['Close'])\n",
    "RSI = vbt.IndicatorFactory.from_talib('RSI')\n",
    "SMA = vbt.IndicatorFactory.from_talib('SMA')\n",
    "\n",
    "@njit\n",
    "def buy_signal(close, sma_small, sma_medium, sma_large, bullish_engulfing, rsi, rsi_buy):\n",
    "    buy = np.where((close>sma_small) & (sma_small>sma_medium) & (sma_medium>sma_large) & (bullish_engulfing==100) & (rsi > rsi_buy), 1, 0)\n",
    "    return buy\n",
    "\n",
    "@njit\n",
    "def stop_signal(low, high, stop_multiplier, close):\n",
    "    stop_loss = -1*(((low - (high-low)*stop_multiplier)-close)/close)\n",
    "    return stop_loss\n",
    "\n",
    "@njit\n",
    "def profit_signal(high, low, profit_multiplier, close):\n",
    "    profit = ((high + ((high-low)*profit_multiplier)-close)/close)\n",
    "    return profit\n",
    "\n",
    "def three_ma(close, high, low, bullish_engulfing, rsi_window = 14, sma_window_large = 200, sma_window_medium = 50, sma_window_small = 21, rsi_buy = 50, profit_multiplier = 4, stop_multiplier = 2):\n",
    "    rsi = RSI.run(close, rsi_window).real.to_numpy()\n",
    "    sma_large = SMA.run(close, sma_window_large).real.to_numpy()\n",
    "    sma_medium = SMA.run(close, sma_window_medium).real.to_numpy()\n",
    "    sma_small = SMA.run(close, sma_window_small).real.to_numpy()\n",
    "\n",
    "    entries = buy_signal(close, sma_small, sma_medium, sma_large, bullish_engulfing, rsi, rsi_buy) == 1\n",
    "\n",
    "\n",
    "    return entries, profit_signal(high, low, profit_multiplier, close), stop_signal(low, high, stop_multiplier, close)\n",
    "\n",
    "\n",
    "three_ma = vbt.IndicatorFactory(\n",
    "    class_name = \"three_ma\",\n",
    "    short_name = \"three_ma\",\n",
    "    input_names = ['close', 'high', 'low', 'bullish_engulfing'],\n",
    "    output_names = ['buy', 'profit', 'stop_loss'],\n",
    "    param_names=['rsi_window', 'sma_window_large', 'sma_window_medium', 'sma_window_small', 'rsi_buy', 'profit_multiplier', 'stop_multiplier']\n",
    ").from_apply_func(three_ma, rsi_window = 14, sma_window_large = 200, sma_window_medium = 50, sma_window_small = 21, rsi_buy = 50, profit_multiplier = 4, stop_multiplier = 2)\n",
    "\n",
    "\n",
    "\n",
    "sma_windows = np.arange(15,25,step=3,dtype=int)\n",
    "\n",
    "master_returns = []\n",
    "\n",
    "for window in sma_windows:\n",
    "    order = three_ma.run(\n",
    "        data['Close'],\n",
    "        data['High'],\n",
    "        data['Low'],\n",
    "        bullish_engulfing,\n",
    "        rsi_window = 14,\n",
    "        sma_window_large = 200,\n",
    "        sma_window_medium = 50,\n",
    "        sma_window_small = window,\n",
    "        rsi_buy = np.arange(35,65,step=5,dtype=int),\n",
    "        profit_multiplier =  np.arange(2,5,step=.1,dtype=float),\n",
    "        stop_multiplier = np.arange(.5,2.5,step=.1,dtype=float),\n",
    "        param_product = True,\n",
    "        to_2d = False\n",
    "    )\n",
    "\n",
    "    pf = vbt.Portfolio.from_signals(data['Close'], order.buy, sl_stop = order.stop_loss, tp_stop = order.profit, init_cash=10000, freq='5m')\n",
    "    master_returns.append(pf.total_return())\n",
    "\n",
    "print(master_returns)\n",
    "#orders = pf.orders\n",
    "#returns = pf.total_return()\n",
    "#print(returns)\n",
    "#print(returns.max())\n"
   ]
  },
  {
   "cell_type": "code",
   "execution_count": 3,
   "metadata": {
    "ExecuteTime": {
     "start_time": "2023-05-18T05:46:42.687875Z",
     "end_time": "2023-05-18T05:46:42.731758Z"
    }
   },
   "outputs": [],
   "source": [
    "\n",
    "\n"
   ]
  },
  {
   "cell_type": "code",
   "execution_count": 3,
   "outputs": [],
   "source": [],
   "metadata": {
    "collapsed": false,
    "ExecuteTime": {
     "start_time": "2023-05-18T05:46:42.704831Z",
     "end_time": "2023-05-18T05:46:42.738740Z"
    }
   }
  }
 ],
 "metadata": {
  "kernelspec": {
   "display_name": "Python 3 (ipykernel)",
   "language": "python",
   "name": "python3"
  },
  "language_info": {
   "codemirror_mode": {
    "name": "ipython",
    "version": 3
   },
   "file_extension": ".py",
   "mimetype": "text/x-python",
   "name": "python",
   "nbconvert_exporter": "python",
   "pygments_lexer": "ipython3",
   "version": "3.9.13"
  }
 },
 "nbformat": 4,
 "nbformat_minor": 1
}
