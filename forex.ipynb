{
 "cells": [
  {
   "cell_type": "code",
   "execution_count": 24,
   "metadata": {
    "ExecuteTime": {
     "start_time": "2023-05-22T01:19:41.924002Z",
     "end_time": "2023-05-22T01:19:41.938865Z"
    }
   },
   "outputs": [],
   "source": [
    "import vectorbt as vbt\n",
    "import numpy as np\n",
    "import numpy.ma as ma\n",
    "import pandas as pd\n",
    "import inspect\n",
    "import datetime\n",
    "import talib\n",
    "from numba import njit\n",
    "from IPython.display import display, HTML\n",
    "\n",
    "\n",
    "vbt.settings.data['alpaca']['key_id'] = 'PK2XNKDSJH4PVPCYDK8E'\n",
    "vbt.settings.data['alpaca']['secret_key'] = 'f5cD1kbR3p5RRfgvNgDiQ09qRpi4LCYmPZprl3KM'"
   ]
  },
  {
   "cell_type": "code",
   "execution_count": 25,
   "metadata": {
    "ExecuteTime": {
     "start_time": "2023-05-22T01:19:41.940860Z",
     "end_time": "2023-05-22T01:20:20.853543Z"
    }
   },
   "outputs": [
    {
     "data": {
      "application/vnd.jupyter.widget-view+json": {
       "version_major": 2,
       "version_minor": 0,
       "model_id": "71bd42309fe74a04a7609a5f1e2ca35c"
      },
      "text/plain": "FigureWidget({\n    'data': [{'close': array([ 27.14,  27.1 ,  27.08, ..., 152.58, 152.49, 152.49]),\n              'decreasing': {'line': {'color': '#d95f02'}},\n              'high': array([ 27.14,  27.1 ,  27.08, ..., 152.65, 152.59, 152.54]),\n              'increasing': {'line': {'color': '#1b9e76'}},\n              'low': array([ 27.13,  27.1 ,  27.08, ..., 152.54, 152.49, 152.46]),\n              'name': 'Candlestick',\n              'open': array([ 27.13,  27.1 ,  27.08, ..., 152.65, 152.59, 152.48]),\n              'type': 'candlestick',\n              'uid': '9ac33953-1a93-4965-93ab-02b937978ea8',\n              'x': array([datetime.datetime(2015, 12, 1, 9, 0, tzinfo=datetime.timezone.utc),\n                          datetime.datetime(2015, 12, 1, 9, 25, tzinfo=datetime.timezone.utc),\n                          datetime.datetime(2015, 12, 1, 9, 30, tzinfo=datetime.timezone.utc),\n                          ...,\n                          datetime.datetime(2023, 3, 15, 23, 45, tzinfo=datetime.timezone.utc),\n                          datetime.datetime(2023, 3, 15, 23, 50, tzinfo=datetime.timezone.utc),\n                          datetime.datetime(2023, 3, 15, 23, 55, tzinfo=datetime.timezone.utc)],\n                         dtype=object),\n              'xaxis': 'x',\n              'yaxis': 'y'},\n             {'marker': {'color': array(['#1b9e76', '#7f7f7f', '#7f7f7f', ..., '#d95f02', '#d95f02', '#1b9e76'],\n                                        dtype=object),\n                         'line': {'width': 0}},\n              'name': 'Volume',\n              'opacity': 0.5,\n              'type': 'bar',\n              'uid': 'e75b7688-90aa-4523-9fd1-03594c2073a3',\n              'x': array([datetime.datetime(2015, 12, 1, 9, 0, tzinfo=datetime.timezone.utc),\n                          datetime.datetime(2015, 12, 1, 9, 25, tzinfo=datetime.timezone.utc),\n                          datetime.datetime(2015, 12, 1, 9, 30, tzinfo=datetime.timezone.utc),\n                          ...,\n                          datetime.datetime(2023, 3, 15, 23, 45, tzinfo=datetime.timezone.utc),\n                          datetime.datetime(2023, 3, 15, 23, 50, tzinfo=datetime.timezone.utc),\n                          datetime.datetime(2023, 3, 15, 23, 55, tzinfo=datetime.timezone.utc)],\n                         dtype=object),\n              'xaxis': 'x2',\n              'y': array([4580.,  800.,  400., ..., 6889., 8545., 8271.]),\n              'yaxis': 'y2'}],\n    'layout': {'bargap': 0,\n               'height': 350,\n               'legend': {'orientation': 'h',\n                          'traceorder': 'normal',\n                          'x': 1,\n                          'xanchor': 'right',\n                          'y': 1.02,\n                          'yanchor': 'bottom'},\n               'margin': {'b': 30, 'l': 30, 'r': 30, 't': 30},\n               'showlegend': True,\n               'template': '...',\n               'width': 700,\n               'xaxis': {'anchor': 'y',\n                         'domain': [0.0, 1.0],\n                         'matches': 'x2',\n                         'rangeslider': {'visible': False},\n                         'showgrid': True,\n                         'showticklabels': False},\n               'xaxis2': {'anchor': 'y2', 'domain': [0.0, 1.0], 'showgrid': True},\n               'yaxis': {'anchor': 'x', 'domain': [0.3, 1.0], 'showgrid': True},\n               'yaxis2': {'anchor': 'x2', 'domain': [0.0, 0.3], 'showgrid': True}}\n})"
     },
     "execution_count": 25,
     "metadata": {},
     "output_type": "execute_result"
    }
   ],
   "source": [
    "symbol = 'aapl'\n",
    "data = vbt.AlpacaData.download(symbol,\n",
    "                               start='2022-1-01',\n",
    "                               end='2023-3-16',\n",
    "                               limit=2000000,\n",
    "                               timeframe='5m').get()\n",
    "\n",
    "inspect.signature(data.vbt.ohlcv.plot)\n",
    "data.vbt.ohlcv.plot(plot_type='candlestick')\n"
   ]
  },
  {
   "cell_type": "code",
   "execution_count": 25,
   "outputs": [],
   "source": [],
   "metadata": {
    "collapsed": false,
    "ExecuteTime": {
     "start_time": "2023-05-22T01:20:20.856533Z",
     "end_time": "2023-05-22T01:20:20.878478Z"
    }
   }
  },
  {
   "cell_type": "code",
   "execution_count": 26,
   "metadata": {
    "ExecuteTime": {
     "start_time": "2023-05-22T01:16:51.130011Z",
     "end_time": "2023-05-22T01:17:53.956159Z"
    }
   },
   "outputs": [
    {
     "ename": "SyntaxError",
     "evalue": "invalid syntax (2696719582.py, line 60)",
     "output_type": "error",
     "traceback": [
      "\u001B[1;36m  Cell \u001B[1;32mIn[26], line 60\u001B[1;36m\u001B[0m\n\u001B[1;33m    pf.stats()1\u001B[0m\n\u001B[1;37m              ^\u001B[0m\n\u001B[1;31mSyntaxError\u001B[0m\u001B[1;31m:\u001B[0m invalid syntax\n"
     ]
    }
   ],
   "source": [
    "bullish_engulfing = talib.CDLENGULFING(data['Open'], data['High'], data['Low'], data['Close'])\n",
    "RSI = vbt.IndicatorFactory.from_talib('RSI')\n",
    "SMA = vbt.IndicatorFactory.from_talib('SMA')\n",
    "\n",
    "@njit\n",
    "def buy_signal(close, sma_small, sma_medium, sma_large, bullish_engulfing, rsi, rsi_buy):\n",
    "    buy = np.where((close>sma_small) & (sma_small>sma_medium) & (sma_medium>sma_large) & (bullish_engulfing==100) & (rsi > rsi_buy), 1, 0)\n",
    "    return buy\n",
    "\n",
    "@njit\n",
    "def stop_signal(low, high, stop_multiplier, close):\n",
    "    stop_loss = -1*(((low - (high-low)*stop_multiplier)-close)/close)\n",
    "    return stop_loss\n",
    "\n",
    "@njit\n",
    "def profit_signal(high, low, profit_multiplier, close):\n",
    "    profit = ((high + ((high-low)*profit_multiplier)-close)/close)\n",
    "    return profit\n",
    "\n",
    "def three_ma(close, high, low, bullish_engulfing, rsi_window = 14, sma_window_large = 200, sma_window_medium = 50, sma_window_small = 21, rsi_buy = 50, profit_multiplier = 4, stop_multiplier = 2):\n",
    "    rsi = RSI.run(close, rsi_window).real.to_numpy()\n",
    "    sma_large = SMA.run(close, sma_window_large).real.to_numpy()\n",
    "    sma_medium = SMA.run(close, sma_window_medium).real.to_numpy()\n",
    "    sma_small = SMA.run(close, sma_window_small).real.to_numpy()\n",
    "\n",
    "    entries = buy_signal(close, sma_small, sma_medium, sma_large, bullish_engulfing, rsi, rsi_buy) == 1\n",
    "\n",
    "\n",
    "    return entries, profit_signal(high, low, profit_multiplier, close), stop_signal(low, high, stop_multiplier, close)\n",
    "\n",
    "\n",
    "three_ma = vbt.IndicatorFactory(\n",
    "    class_name = \"three_ma\",\n",
    "    short_name = \"three_ma\",\n",
    "    input_names = ['close', 'high', 'low', 'bullish_engulfing'],\n",
    "    output_names = ['buy', 'profit', 'stop_loss'],\n",
    "    param_names=['rsi_window', 'sma_window_large', 'sma_window_medium', 'sma_window_small', 'rsi_buy', 'profit_multiplier', 'stop_multiplier']\n",
    ").from_apply_func(three_ma, rsi_window = 14, sma_window_large = 200, sma_window_medium = 50, sma_window_small = 21, rsi_buy = 50, profit_multiplier = 4, stop_multiplier = 2)\n",
    "\n",
    "\n",
    "\n",
    "sma_windows = np.arange(15,25,step=3,dtype=int)\n",
    "\n",
    "master_returns = []\n",
    "\n",
    "for window in sma_windows:\n",
    "    order = three_ma.run(\n",
    "        data['Close'],\n",
    "        data['High'],\n",
    "        data['Low'],\n",
    "        bullish_engulfing,\n",
    "        rsi_window = 14,\n",
    "        sma_window_large = 200,\n",
    "        sma_window_medium = 50,\n",
    "        sma_window_small = window,\n",
    "        rsi_buy = np.arange(35,65,step=5,dtype=int),\n",
    "        profit_multiplier =  np.arange(2,5,step=.1,dtype=float),\n",
    "        stop_multiplier = np.arange(.5,2.5,step=.1,dtype=float),\n",
    "        param_product = True,\n",
    "        to_2d = False\n",
    "    )\n",
    "\n",
    "    pf = vbt.Portfolio.from_signals(data['Close'], order.buy, sl_stop = order.stop_loss, tp_stop = order.profit, init_cash=10000, freq='5m')\n",
    "    master_returns.append(pf.total_return())\n",
    "\n",
    "print(master_returns)\n",
    "#orders = pf.orders\n",
    "#returns = pf.total_return()\n",
    "#print(returns)\n",
    "#print(returns.max())\n"
   ]
  },
  {
   "cell_type": "code",
   "execution_count": null,
   "metadata": {
    "ExecuteTime": {
     "start_time": "2023-05-22T01:17:53.958155Z",
     "end_time": "2023-05-22T01:17:53.971255Z"
    }
   },
   "outputs": [],
   "source": [
    "\n",
    "\n"
   ]
  },
  {
   "cell_type": "code",
   "execution_count": null,
   "outputs": [],
   "source": [],
   "metadata": {
    "collapsed": false,
    "ExecuteTime": {
     "start_time": "2023-05-22T01:17:53.972254Z",
     "end_time": "2023-05-22T01:17:53.993252Z"
    }
   }
  }
 ],
 "metadata": {
  "kernelspec": {
   "display_name": "Python 3 (ipykernel)",
   "language": "python",
   "name": "python3"
  },
  "language_info": {
   "codemirror_mode": {
    "name": "ipython",
    "version": 3
   },
   "file_extension": ".py",
   "mimetype": "text/x-python",
   "name": "python",
   "nbconvert_exporter": "python",
   "pygments_lexer": "ipython3",
   "version": "3.9.13"
  }
 },
 "nbformat": 4,
 "nbformat_minor": 1
}
