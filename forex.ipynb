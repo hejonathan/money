{
 "cells": [
  {
   "cell_type": "code",
   "execution_count": 60,
   "metadata": {
    "ExecuteTime": {
     "start_time": "2023-05-17T11:11:04.078663Z",
     "end_time": "2023-05-17T11:11:04.090631Z"
    }
   },
   "outputs": [],
   "source": [
    "import vectorbt as vbt\n",
    "import numpy as np\n",
    "import numpy.ma as ma\n",
    "import pandas as pd\n",
    "import inspect\n",
    "import datetime\n",
    "import talib\n",
    "from IPython.display import display, HTML\n",
    "\n",
    "\n",
    "vbt.settings.data['alpaca']['key_id'] = 'PK2XNKDSJH4PVPCYDK8E'\n",
    "vbt.settings.data['alpaca']['secret_key'] = 'f5cD1kbR3p5RRfgvNgDiQ09qRpi4LCYmPZprl3KM'"
   ]
  },
  {
   "cell_type": "code",
   "execution_count": 61,
   "metadata": {
    "ExecuteTime": {
     "start_time": "2023-05-17T11:11:04.094620Z",
     "end_time": "2023-05-17T11:11:10.931036Z"
    }
   },
   "outputs": [
    {
     "data": {
      "application/vnd.jupyter.widget-view+json": {
       "version_major": 2,
       "version_minor": 0,
       "model_id": "c63aa575389b469faa596abf981b26b0"
      },
      "text/plain": "FigureWidget({\n    'data': [{'close': array([395.98, 395.97, 395.88, ..., 298.69, 298.59, 298.77]),\n              'decreasing': {'line': {'color': '#d95f02'}},\n              'high': array([395.98, 395.97, 395.88, ..., 298.99, 298.68, 298.79]),\n              'increasing': {'line': {'color': '#1b9e76'}},\n              'low': array([395.98, 395.97, 395.52, ..., 298.53, 298.52, 298.58]),\n              'name': 'Candlestick',\n              'open': array([395.98, 395.97, 395.52, ..., 298.99, 298.68, 298.58]),\n              'type': 'candlestick',\n              'uid': 'dae4dd33-2857-4010-8411-76d1a90a7ff4',\n              'x': array([datetime.datetime(2022, 1, 3, 5, 50, tzinfo=datetime.timezone.utc),\n                          datetime.datetime(2022, 1, 3, 8, 15, tzinfo=datetime.timezone.utc),\n                          datetime.datetime(2022, 1, 3, 9, 0, tzinfo=datetime.timezone.utc), ...,\n                          datetime.datetime(2023, 3, 15, 23, 45, tzinfo=datetime.timezone.utc),\n                          datetime.datetime(2023, 3, 15, 23, 50, tzinfo=datetime.timezone.utc),\n                          datetime.datetime(2023, 3, 15, 23, 55, tzinfo=datetime.timezone.utc)],\n                         dtype=object),\n              'xaxis': 'x',\n              'yaxis': 'y'},\n             {'marker': {'color': array(['#7f7f7f', '#7f7f7f', '#1b9e76', ..., '#d95f02', '#d95f02', '#1b9e76'],\n                                        dtype=object),\n                         'line': {'width': 0}},\n              'name': 'Volume',\n              'opacity': 0.5,\n              'type': 'bar',\n              'uid': 'c179a036-ce5e-49ec-b887-6b3eea774d1e',\n              'x': array([datetime.datetime(2022, 1, 3, 5, 50, tzinfo=datetime.timezone.utc),\n                          datetime.datetime(2022, 1, 3, 8, 15, tzinfo=datetime.timezone.utc),\n                          datetime.datetime(2022, 1, 3, 9, 0, tzinfo=datetime.timezone.utc), ...,\n                          datetime.datetime(2023, 3, 15, 23, 45, tzinfo=datetime.timezone.utc),\n                          datetime.datetime(2023, 3, 15, 23, 50, tzinfo=datetime.timezone.utc),\n                          datetime.datetime(2023, 3, 15, 23, 55, tzinfo=datetime.timezone.utc)],\n                         dtype=object),\n              'xaxis': 'x2',\n              'y': array([  696.,   125.,  4022., ..., 20191., 78699., 26492.]),\n              'yaxis': 'y2'}],\n    'layout': {'bargap': 0,\n               'height': 350,\n               'legend': {'orientation': 'h',\n                          'traceorder': 'normal',\n                          'x': 1,\n                          'xanchor': 'right',\n                          'y': 1.02,\n                          'yanchor': 'bottom'},\n               'margin': {'b': 30, 'l': 30, 'r': 30, 't': 30},\n               'showlegend': True,\n               'template': '...',\n               'width': 700,\n               'xaxis': {'anchor': 'y',\n                         'domain': [0.0, 1.0],\n                         'matches': 'x2',\n                         'rangeslider': {'visible': False},\n                         'showgrid': True,\n                         'showticklabels': False},\n               'xaxis2': {'anchor': 'y2', 'domain': [0.0, 1.0], 'showgrid': True},\n               'yaxis': {'anchor': 'x', 'domain': [0.3, 1.0], 'showgrid': True},\n               'yaxis2': {'anchor': 'x2', 'domain': [0.0, 0.3], 'showgrid': True}}\n})"
     },
     "execution_count": 61,
     "metadata": {},
     "output_type": "execute_result"
    }
   ],
   "source": [
    "symbol = 'qqq'\n",
    "data = vbt.AlpacaData.download(symbol,\n",
    "                               start='2022-1-01',\n",
    "                               end='2023-3-16',\n",
    "                               limit=2000000,\n",
    "                               timeframe='5m').get()\n",
    "\n",
    "inspect.signature(data.vbt.ohlcv.plot)\n",
    "data.vbt.ohlcv.plot(plot_type='candlestick')\n"
   ]
  },
  {
   "cell_type": "code",
   "execution_count": 62,
   "outputs": [
    {
     "name": "stdout",
     "output_type": "stream",
     "text": [
      "timestamp\n",
      "2022-01-03 13:45:00+00:00    100\n",
      "2022-01-03 14:15:00+00:00    100\n",
      "2022-01-03 14:30:00+00:00    100\n",
      "2022-01-03 16:20:00+00:00    100\n",
      "2022-01-03 21:35:00+00:00    100\n",
      "                            ... \n",
      "2023-03-15 17:05:00+00:00    100\n",
      "2023-03-15 17:50:00+00:00    100\n",
      "2023-03-15 18:50:00+00:00    100\n",
      "2023-03-15 19:55:00+00:00    100\n",
      "2023-03-15 23:55:00+00:00    100\n",
      "Length: 2063, dtype: int32\n"
     ]
    }
   ],
   "source": [
    "bullish_engulfing = talib.CDLENGULFING(data['Open'], data['High'], data['Low'], data['Close'])\n",
    "\n",
    "print(bullish_engulfing[bullish_engulfing == 100])"
   ],
   "metadata": {
    "collapsed": false,
    "ExecuteTime": {
     "start_time": "2023-05-17T11:11:10.934028Z",
     "end_time": "2023-05-17T11:11:10.975100Z"
    }
   }
  },
  {
   "cell_type": "code",
   "execution_count": 63,
   "metadata": {
    "ExecuteTime": {
     "start_time": "2023-05-17T11:11:10.961109Z",
     "end_time": "2023-05-17T11:11:13.644236Z"
    }
   },
   "outputs": [
    {
     "data": {
      "text/plain": "Start                         2022-01-03 05:50:00+00:00\nEnd                           2023-03-15 23:55:00+00:00\nPeriod                                206 days 15:30:00\nStart Value                                     10000.0\nEnd Value                                  13388.836754\nTotal Return [%]                              33.888368\nBenchmark Return [%]                         -24.597202\nMax Gross Exposure [%]                            100.0\nTotal Fees Paid                                     0.0\nMax Drawdown [%]                               8.953087\nMax Drawdown Duration                  49 days 19:10:00\nTotal Trades                                        255\nTotal Closed Trades                                 255\nTotal Open Trades                                     0\nOpen Trade PnL                                      0.0\nWin Rate [%]                                  52.941176\nBest Trade [%]                                 3.318893\nWorst Trade [%]                               -3.619978\nAvg Winning Trade [%]                          0.836697\nAvg Losing Trade [%]                          -0.688072\nAvg Winning Trade Duration    0 days 04:32:53.333333333\nAvg Losing Trade Duration               0 days 05:49:25\nProfit Factor                                  1.380472\nExpectancy                                    13.289556\nSharpe Ratio                                   2.555259\nCalmar Ratio                                   7.532923\nOmega Ratio                                    1.055556\nSortino Ratio                                  3.479266\ndtype: object"
     },
     "execution_count": 63,
     "metadata": {},
     "output_type": "execute_result"
    }
   ],
   "source": [
    "RSI = vbt.IndicatorFactory.from_talib('RSI')\n",
    "SMA = vbt.IndicatorFactory.from_talib('SMA')\n",
    "\n",
    "\n",
    "def three_ma(start, close, high, low, rsi_window = 14, sma_window_large = 200, sma_window_medium = 50, sma_window_small = 21, rsi_buy = 50):\n",
    "    rsi = RSI.run(close, rsi_window).real.to_numpy()\n",
    "    sma_large = SMA.run(close, sma_window_large).real.to_numpy()\n",
    "    sma_medium = SMA.run(close, sma_window_medium).real.to_numpy()\n",
    "    sma_small = SMA.run(close, sma_window_small).real.to_numpy()\n",
    "\n",
    "    buy = np.where((sma_small>sma_medium) & (sma_medium>sma_large) & (bullish_engulfing==100) & (rsi > rsi_buy), 1, 0)\n",
    "\n",
    "    stop_loss = -1*(((low - (high-low)*2)-close)/close)\n",
    "\n",
    "    profit = ((high + ((high-low)*4)-close)/close)\n",
    "\n",
    "    return buy, profit, stop_loss\n",
    "\n",
    "\n",
    "three_ma = vbt.IndicatorFactory(\n",
    "    class_name = \"three_ma\",\n",
    "    short_name = \"three_ma\",\n",
    "    input_names = ['start', 'close', 'high', 'low'],\n",
    "    output_names = ['buy', 'profit', 'stop_loss'],\n",
    "    param_names=['rsi_window', 'sma_window_large', 'sma_window_medium', 'sma_window_small', 'rsi_buy']\n",
    ").from_apply_func(three_ma, rsi_window = 14, sma_window_large = 200, sma_window_medium = 50, sma_window_small = 21, rsi_buy = 50)\n",
    "\n",
    "order = three_ma.run(\n",
    "    data['Open'],\n",
    "    data['Close'],\n",
    "    data['High'],\n",
    "    data['Low'],\n",
    "    rsi_window = 14,\n",
    "    sma_window_large = 200,\n",
    "    sma_window_medium = 50,\n",
    "    sma_window_small = 21,\n",
    "    rsi_buy = 50,\n",
    "    param_product = True,\n",
    "    to_2d = False\n",
    ")\n",
    "\n",
    "entries = order.buy == 1\n",
    "\n",
    "pf = vbt.Portfolio.from_signals(data['Open'], entries, sl_stop = order.stop_loss, tp_stop = order.profit, init_cash=10000, freq='5m')\n",
    "\n",
    "#orders = pf.orders\n",
    "pf.stats()\n",
    "\n",
    "\n"
   ]
  },
  {
   "cell_type": "code",
   "execution_count": 63,
   "metadata": {
    "ExecuteTime": {
     "start_time": "2023-05-17T11:11:13.648226Z",
     "end_time": "2023-05-17T11:11:13.669170Z"
    }
   },
   "outputs": [],
   "source": [
    "\n",
    "\n"
   ]
  },
  {
   "cell_type": "code",
   "execution_count": 63,
   "outputs": [],
   "source": [],
   "metadata": {
    "collapsed": false,
    "ExecuteTime": {
     "start_time": "2023-05-17T11:11:13.662189Z",
     "end_time": "2023-05-17T11:11:13.677150Z"
    }
   }
  }
 ],
 "metadata": {
  "kernelspec": {
   "display_name": "Python 3 (ipykernel)",
   "language": "python",
   "name": "python3"
  },
  "language_info": {
   "codemirror_mode": {
    "name": "ipython",
    "version": 3
   },
   "file_extension": ".py",
   "mimetype": "text/x-python",
   "name": "python",
   "nbconvert_exporter": "python",
   "pygments_lexer": "ipython3",
   "version": "3.9.13"
  }
 },
 "nbformat": 4,
 "nbformat_minor": 1
}
